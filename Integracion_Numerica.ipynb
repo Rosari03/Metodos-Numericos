{
  "nbformat": 4,
  "nbformat_minor": 0,
  "metadata": {
    "colab": {
      "provenance": [],
      "authorship_tag": "ABX9TyNxfRW2RCUbfOeh527T601t",
      "include_colab_link": true
    },
    "kernelspec": {
      "name": "python3",
      "display_name": "Python 3"
    },
    "language_info": {
      "name": "python"
    }
  },
  "cells": [
    {
      "cell_type": "markdown",
      "metadata": {
        "id": "view-in-github",
        "colab_type": "text"
      },
      "source": [
        "<a href=\"https://colab.research.google.com/github/Rosari03/Metodos-Numericos/blob/main/Integracion_Numerica.ipynb\" target=\"_parent\"><img src=\"https://colab.research.google.com/assets/colab-badge.svg\" alt=\"Open In Colab\"/></a>"
      ]
    },
    {
      "cell_type": "markdown",
      "source": [
        "## Métodos de Newton-Cotes\n",
        "\n",
        "### Newton-Cotes Cerrados\n",
        "\n",
        "Usan los extremos del intervalo \\([a, b]\\)\n",
        "\n"
      ],
      "metadata": {
        "id": "KweXhXZKJAB0"
      }
    },
    {
      "cell_type": "markdown",
      "source": [
        "\n",
        "#### 1. Regla del trapecio (n = 1)\n",
        "\n",
        "$\n",
        "\\int_a^b f(x) \\, dx \\approx \\frac{h}{2} [f(a) + f(b)]\n",
        "$\n",
        "\n",
        "Error: \\( $\\mathcal{O}(h^3)$ \\)\n",
        "\n"
      ],
      "metadata": {
        "id": "AZhPL86qJEe4"
      }
    },
    {
      "cell_type": "markdown",
      "source": [
        "\n",
        "\n",
        "#### 2. Regla de Simpson (n = 2)\n",
        "\n",
        "$\n",
        "\\int_a^b f(x) \\, dx \\approx \\frac{h}{3} [f(a) + 4f(a+h) + f(b)]\n",
        "$\n",
        "\n",
        "Error: \\( $\\mathcal{O}(h^5)$ \\)"
      ],
      "metadata": {
        "id": "WQn8XIdGJN7o"
      }
    },
    {
      "cell_type": "markdown",
      "source": [
        "#### 3. Regla de tres octavos (n = 3)\n",
        "\n",
        "$\n",
        "\\int_a^b f(x) \\, dx \\approx \\frac{3h}{8} [f(a) + 3f(a+h) + 3f(a+2h) + f(b)]\n",
        "$\n",
        "\n",
        "Error: \\( $\\mathcal{O}(h^5) $\\)"
      ],
      "metadata": {
        "id": "n7oD6tnmJRbB"
      }
    },
    {
      "cell_type": "markdown",
      "source": [
        "\n",
        "#### 4. Regla de Boole (n = 4)\n",
        "\n",
        "$\n",
        "\\int_a^b f(x) \\, dx \\approx \\frac{2h}{45} \\left[7f(a) + 32f(a+h) + 12f(a+2h) + 32f(a+3h) + 7f(b)\\right]\n",
        "$\n",
        "\n",
        "Error: \\( $\\mathcal{O}(h^7) $\\)"
      ],
      "metadata": {
        "id": "Xf1YrJezJV25"
      }
    },
    {
      "cell_type": "markdown",
      "source": [
        "###  Newton-Cotes Abiertos\n",
        "\n",
        "No usan los extremos del intervalo \\([a, b]\\)\n",
        "\n",
        "#### 1. Abierta n = 0\n",
        "\n",
        "$$\n",
        "\\int_a^b f(x) \\, dx \\approx h \\cdot f\\left( \\frac{a + b}{2} \\right)\n",
        "$$\n",
        "\n",
        "Error: \\( $\\mathcal{O}(h^3) $\\)\n",
        "\n",
        "\n",
        "\n",
        "#### 2. Abierta n = 1\n",
        "\n",
        "$$\n",
        "\\int_a^b f(x) \\, dx \\approx \\frac{3h}{2} \\left[f(a + h) + f(a + 2h)\\right]\n",
        "$$\n",
        "\n",
        "Error: \\($ \\mathcal{O}(h^3) $\\)\n",
        "\n",
        "\n",
        "\n",
        "#### 3. Abierta n = 2\n",
        "\n",
        "$$\n",
        "\\int_a^b f(x) \\, dx \\approx \\frac{4h}{3} \\left[2f(a + h) - f(a + 2h) + 2f(a + 3h)\\right]\n",
        "$$\n",
        "\n",
        "Error: \\( $\\mathcal{O}(h^5) $\\)\n",
        "\n",
        "\n",
        "#### 4. Abierta n = 3\n",
        "\n",
        "$$\n",
        "\\int_a^b f(x) \\, dx \\approx \\frac{5h}{24} \\left[11f(a + h) + f(a + 2h) + f(a + 3h) + 11f(a + 4h)\\right]\n",
        "$$\n",
        "\n",
        "Error: \\( $\\mathcal{O}(h^5)$ \\)\n"
      ],
      "metadata": {
        "id": "xq6QuKPTIQ_T"
      }
    },
    {
      "cell_type": "code",
      "source": [
        "import numpy as np\n",
        "\n",
        "#Nuestra funcion\n",
        "def f(x):\n",
        "    return np.sin(x)\n",
        "\n",
        "#Intervalo\n",
        "a = 0\n",
        "b = np.pi / 4"
      ],
      "metadata": {
        "id": "r5EP_ITSHOxy"
      },
      "execution_count": 17,
      "outputs": []
    },
    {
      "cell_type": "code",
      "source": [
        "#Newton-Cotes Cerradas\n",
        "def nc_cerrada_trap(a, b):\n",
        "    h = b - a\n",
        "    return h / 2 * (f(a) + f(b))\n",
        "\n",
        "def nc_cerrada_simpson(a, b):\n",
        "    h = (b - a) / 2\n",
        "    return h / 3 * (f(a) + 4 * f(a + h) + f(b))\n",
        "\n",
        "def nc_cerrada_3_8(a, b):\n",
        "    h = (b - a) / 3\n",
        "    return 3 * h / 8 * (f(a) + 3 * f(a + h) + 3 * f(a + 2*h) + f(b))\n",
        "\n",
        "def nc_cerrada_n4(a, b):\n",
        "    h = (b - a) / 4\n",
        "    return 2 * h / 45 * (\n",
        "        7*f(a) + 32*f(a + h) + 12*f(a + 2*h) + 32*f(a + 3*h) + 7*f(b)\n",
        "    )"
      ],
      "metadata": {
        "id": "1HL3Q1eOHO5r"
      },
      "execution_count": 18,
      "outputs": []
    },
    {
      "cell_type": "code",
      "source": [
        "#Newton-Cotes Abiertas\n",
        "def nc_abierta_n0(a, b):\n",
        "    h = (b - a) / 2\n",
        "    return h * f(a + h)\n",
        "\n",
        "def nc_abierta_n1(a, b):\n",
        "    h = (b - a) / 3\n",
        "    return 3 * h / 2 * (f(a + h) + f(a + 2*h))\n",
        "\n",
        "def nc_abierta_n2(a, b):\n",
        "    h = (b - a) / 4\n",
        "    return 4 * h / 3 * (\n",
        "        2*f(a + h) - f(a + 2*h) + 2*f(a + 3*h)\n",
        "    )\n",
        "\n",
        "def nc_abierta_n3(a, b):\n",
        "    h = (b - a) / 5\n",
        "    return 5 * h / 24 * (\n",
        "        11*f(a + h) + f(a + 2*h) + f(a + 3*h) + 11*f(a + 4*h)\n",
        "    )"
      ],
      "metadata": {
        "id": "6il85lRRHO-p"
      },
      "execution_count": 19,
      "outputs": []
    },
    {
      "cell_type": "code",
      "source": [
        "#Valor real\n",
        "real_value = 1 - np.sqrt(2)/2\n",
        "\n",
        "#Aproximaciones\n",
        "trap = nc_cerrada_trap(a, b)\n",
        "simp = nc_cerrada_simpson(a, b)\n",
        "tres_oct = nc_cerrada_3_8(a, b)\n",
        "n4 = nc_cerrada_n4(a, b)\n",
        "\n",
        "nc0 = nc_abierta_n0(a, b)\n",
        "nc1 = nc_abierta_n1(a, b)\n",
        "nc2 = nc_abierta_n2(a, b)\n",
        "nc3 = nc_abierta_n3(a, b)\n",
        "\n",
        "#Resultados\n",
        "print(f\"Valor real: {real_value:.8f}\\n\")\n",
        "\n",
        "print(\"Newton-Cotes Cerradas:\")\n",
        "print(f\"Trapezoidal:       {trap:.8f}, Error: {abs(real_value - trap):.2e}\")\n",
        "print(f\"Simpson:           {simp:.8f}, Error: {abs(real_value - simp):.2e}\")\n",
        "print(f\"3/8 de Simpson:    {tres_oct:.8f}, Error: {abs(real_value - tres_oct):.2e}\")\n",
        "print(f\"n=4 (Boole):       {n4:.8f}, Error: {abs(real_value - n4):.2e}\")\n",
        "\n",
        "print(\"\\nNewton-Cotes Abiertas:\")\n",
        "print(f\"n=0:               {nc0:.8f}, Error: {abs(real_value - nc0):.2e}\")\n",
        "print(f\"n=1:               {nc1:.8f}, Error: {abs(real_value - nc1):.2e}\")\n",
        "print(f\"n=2:               {nc2:.8f}, Error: {abs(real_value - nc2):.2e}\")\n",
        "print(f\"n=3:               {nc3:.8f}, Error: {abs(real_value - nc3):.2e}\")\n"
      ],
      "metadata": {
        "colab": {
          "base_uri": "https://localhost:8080/"
        },
        "id": "P7pU3QhMHM9z",
        "outputId": "27faf6d7-e879-4fd9-c3a3-a5e94ddbd27b"
      },
      "execution_count": 20,
      "outputs": [
        {
          "output_type": "stream",
          "name": "stdout",
          "text": [
            "Valor real: 0.29289322\n",
            "\n",
            "Newton-Cotes Cerradas:\n",
            "Trapezoidal:       0.27768018, Error: 1.52e-02\n",
            "Simpson:           0.29293264, Error: 3.94e-05\n",
            "3/8 de Simpson:    0.29291070, Error: 1.75e-05\n",
            "n=4 (Boole):       0.29289318, Error: 3.63e-08\n",
            "\n",
            "Newton-Cotes Abiertas:\n",
            "n=0:               0.15027943, Error: 1.43e-01\n",
            "n=1:               0.29798754, Error: 5.09e-03\n",
            "n=2:               0.29285866, Error: 3.46e-05\n",
            "n=3:               0.29286923, Error: 2.40e-05\n"
          ]
        }
      ]
    }
  ]
}