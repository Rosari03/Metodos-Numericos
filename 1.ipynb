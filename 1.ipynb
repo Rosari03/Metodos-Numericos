{
  "nbformat": 4,
  "nbformat_minor": 0,
  "metadata": {
    "colab": {
      "provenance": [],
      "include_colab_link": true
    },
    "kernelspec": {
      "name": "python3",
      "display_name": "Python 3"
    },
    "language_info": {
      "name": "python"
    }
  },
  "cells": [
    {
      "cell_type": "markdown",
      "metadata": {
        "id": "view-in-github",
        "colab_type": "text"
      },
      "source": [
        "<a href=\"https://colab.research.google.com/github/Rosari03/Metodos-Numericos/blob/main/1.ipynb\" target=\"_parent\"><img src=\"https://colab.research.google.com/assets/colab-badge.svg\" alt=\"Open In Colab\"/></a>"
      ]
    },
    {
      "cell_type": "markdown",
      "source": [
        "# Método de Newton"
      ],
      "metadata": {
        "id": "2frgLAtvb0Kh"
      }
    },
    {
      "cell_type": "markdown",
      "source": [
        " Es uno de los metodos numericos mas efectivos para resolver el problema de encontrar una raiz  \n",
        " Para realizar este metodo necesitamos una funcion su derivada y un punto\n",
        "\n",
        " siendo la formula:   *   $p_{i+1}=\\frac{f(p_i)}{f´(p_i)}$*\n",
        "\n",
        "\n",
        "\n"
      ],
      "metadata": {
        "id": "vol6FFYuqbHf"
      }
    },
    {
      "cell_type": "code",
      "source": [
        "import math                 #En este apartado declaramos las librerias matematicas y la que nos servira para graficar mas adelante\n",
        "import tabulate\n",
        "from tabulate import tabulate"
      ],
      "metadata": {
        "id": "s8uWOkKUand4"
      },
      "execution_count": null,
      "outputs": []
    },
    {
      "cell_type": "markdown",
      "source": [
        "Nuestra funcion original sera $f(x)=cos (x) -x$"
      ],
      "metadata": {
        "id": "sOcZiVtR6EJr"
      }
    },
    {
      "cell_type": "markdown",
      "source": [
        "Su derivada como $f´(x)=-sen (x)-1$\n"
      ],
      "metadata": {
        "id": "U9jgjFM_6_m-"
      }
    },
    {
      "cell_type": "markdown",
      "source": [
        "Notemos que $p_o=0$\n"
      ],
      "metadata": {
        "id": "wodubrmddzpw"
      }
    },
    {
      "cell_type": "code",
      "source": [
        "def fx(x):                 #Esta funcion solo es la evaluacion de nuestros x0 para generar aproximaciones\n",
        "    return math.cos(x)-x\n",
        "def fpx(x):                #Esta funcion solo es la evaluacion de la derivada de f(x)\n",
        "    return -math.sin(x)-1\n",
        "def aprox(po,fx,fpx):\n",
        "    return po-(fx(po)/fpx(po))  #Esta funcion ews la que ocuparemos para encntrar nuestra aproximacion"
      ],
      "metadata": {
        "id": "qBtHF1b1bMgO"
      },
      "execution_count": null,
      "outputs": []
    },
    {
      "cell_type": "code",
      "source": [
        "po=0                       #Nuestro valor inicial o aproximacion inicial\n",
        "n=5                       #n= Número de iteraciones de nuestro programa\n",
        "lp=[po]                    #lpo,lerror,lit,lit2 son las listas que guardan nuestras variables\n",
        "lerror=[0]\n",
        "lit=[1]\n",
        "lp2=[]\n",
        "\n"
      ],
      "metadata": {
        "id": "07LRSB_qaseF"
      },
      "execution_count": null,
      "outputs": []
    },
    {
      "cell_type": "code",
      "source": [
        "i=1                        #Nuestro while nos permite hacer n iteraciones\n",
        "while n:                   #fi,fpi son las funciones evaluadas en nuestro punto po\n",
        "   fi=fx(po)\n",
        "   fpi=fpx(po)\n",
        "   p=aprox(po,fx,fpx)      #Aproximaremos una nueva raiz con los nuevos valores que tenemos\n",
        "   po=p                    #Actualizamos el nuevo valor de po para evaluar en g(x)\n",
        "   lp.append(po)\n",
        "   lp2.append(po)          #Tomaremos el error como la diferencia de las 2 ultimas posiciones de lp\n",
        "   lerror.append(abs((lp[-1]-lp[-2])))\n",
        "   i+=1\n",
        "   lit.append(i)\n",
        "   n-=1\n"
      ],
      "metadata": {
        "id": "oJK-IT7xKHKt"
      },
      "execution_count": null,
      "outputs": []
    },
    {
      "cell_type": "code",
      "source": [
        "tabla=list(zip(lit,lp,lp2,lerror))\n",
        "headers=[\"Iteracion\",\"pi\",\"p_i+1\",\"ERROR\"]\n",
        "print(tabulate(tabla,headers=headers,tablefmt=\"grid\"))   #Imprimimos la tabla y listo :3"
      ],
      "metadata": {
        "colab": {
          "base_uri": "https://localhost:8080/"
        },
        "id": "IpAWqbwgbZfD",
        "outputId": "1572e398-4731-43ea-a67d-37e698211247"
      },
      "execution_count": null,
      "outputs": [
        {
          "output_type": "stream",
          "name": "stdout",
          "text": [
            "+-------------+----------+----------+-------------+\n",
            "|   Iteracion |       pi |    p_i+1 |       ERROR |\n",
            "+=============+==========+==========+=============+\n",
            "|           1 | 0        | 1        | 0           |\n",
            "+-------------+----------+----------+-------------+\n",
            "|           2 | 1        | 0.750364 | 1           |\n",
            "+-------------+----------+----------+-------------+\n",
            "|           3 | 0.750364 | 0.739113 | 0.249636    |\n",
            "+-------------+----------+----------+-------------+\n",
            "|           4 | 0.739113 | 0.739085 | 0.011251    |\n",
            "+-------------+----------+----------+-------------+\n",
            "|           5 | 0.739085 | 0.739085 | 2.77575e-05 |\n",
            "+-------------+----------+----------+-------------+\n"
          ]
        }
      ]
    },
    {
      "cell_type": "code",
      "source": [
        "print(\"El valor de nuestra raiz sera: \",lp2[-1])"
      ],
      "metadata": {
        "id": "Gyvn3QhAtKXW"
      },
      "execution_count": null,
      "outputs": []
    }
  ]
}