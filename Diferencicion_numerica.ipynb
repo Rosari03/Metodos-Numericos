{
  "nbformat": 4,
  "nbformat_minor": 0,
  "metadata": {
    "colab": {
      "provenance": [],
      "authorship_tag": "ABX9TyMPhJRlABc3I6e7eBTOFib6",
      "include_colab_link": true
    },
    "kernelspec": {
      "name": "python3",
      "display_name": "Python 3"
    },
    "language_info": {
      "name": "python"
    }
  },
  "cells": [
    {
      "cell_type": "markdown",
      "metadata": {
        "id": "view-in-github",
        "colab_type": "text"
      },
      "source": [
        "<a href=\"https://colab.research.google.com/github/Rosari03/Metodos-Numericos/blob/main/Diferencicion_numerica.ipynb\" target=\"_parent\"><img src=\"https://colab.research.google.com/assets/colab-badge.svg\" alt=\"Open In Colab\"/></a>"
      ]
    },
    {
      "cell_type": "markdown",
      "source": [
        "# Diferenciacion numerica"
      ],
      "metadata": {
        "id": "YIDI4pzMMipA"
      }
    },
    {
      "cell_type": "code",
      "execution_count": 28,
      "metadata": {
        "colab": {
          "base_uri": "https://localhost:8080/"
        },
        "id": "imYyEmkD-64Y",
        "outputId": "23e32d93-40da-44a0-c1bf-5cb78fa80af6"
      },
      "outputs": [
        {
          "output_type": "stream",
          "name": "stdout",
          "text": [
            "1. Extremo de tres puntos 22.03231\n",
            "2. Punto medio tres puntos 22.22879\n",
            "3. Punto medio cinco puntos  22.166999\n",
            "4. Extremo 5 puntos 16.938014\n",
            "5. Segunda derivada (centrada 3 puntos)  29.5932\n"
          ]
        }
      ],
      "source": [
        "import sympy as sp\n",
        "\n",
        "\n",
        "x_vals = [1.8, 1.9, 2.0, 2.1, 2.2]\n",
        "f_vals = [10.889365, 12.703199, 14.778112, 17.148957, 19.855030]\n",
        "\n",
        "h = x_vals[1] - x_vals[0]\n",
        "\n",
        "f0, f1, f2, f3, f4 = f_vals\n",
        "\n",
        "# 1. Extremo de 3 puntos\n",
        "d1_extremo_3pt = (1/(2*h))*(-3*f2 + 4*f3 - f4)\n",
        "\n",
        "# 2. Punto medio de 3 puntos\n",
        "d2_centrada_3pt = (f3 - f1) / (2*h)\n",
        "\n",
        "# 3. Punto medio de 5 puntos\n",
        "d3_centrada_5pt = (f0 - 8*f1 + 8*f3 - f4) / (12*h)\n",
        "\n",
        "# 4. Extremo de 5 puntos\n",
        "d4_extremo_5pt = (-25*f0 + 48*f1 - 36*f2 + 16*f3 - 3*f4) / (12*h)\n",
        "\n",
        "# 5. Segunda derivada punto medio\n",
        "d5_segunda_3pt = (f3 - 2*f2 + f1) / (h**2)\n",
        "\n",
        "# Mostrar resultados\n",
        "print(\"1. Extremo de tres puntos\", round(d1_extremo_3pt, 7))\n",
        "print(\"2. Punto medio tres puntos\", round(d2_centrada_3pt, 6))\n",
        "print(\"3. Punto medio cinco puntos \", round(d3_centrada_5pt, 6))\n",
        "print(\"4. Extremo 5 puntos\", round(d4_extremo_5pt, 6))\n",
        "print(\"5. Segunda derivada (centrada 3 puntos) \", round(d5_segunda_3pt, 6))\n"
      ]
    }
  ]
}