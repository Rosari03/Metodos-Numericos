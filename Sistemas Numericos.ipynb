{
  "nbformat": 4,
  "nbformat_minor": 0,
  "metadata": {
    "colab": {
      "provenance": [],
      "authorship_tag": "ABX9TyMwd5Plqgx3X5GIo0WkCKjG",
      "include_colab_link": true
    },
    "kernelspec": {
      "name": "python3",
      "display_name": "Python 3"
    },
    "language_info": {
      "name": "python"
    }
  },
  "cells": [
    {
      "cell_type": "markdown",
      "metadata": {
        "id": "view-in-github",
        "colab_type": "text"
      },
      "source": [
        "<a href=\"https://colab.research.google.com/github/Rosari03/Metodos-Numericos/blob/main/Sistemas%20Numericos.ipynb\" target=\"_parent\"><img src=\"https://colab.research.google.com/assets/colab-badge.svg\" alt=\"Open In Colab\"/></a>"
      ]
    },
    {
      "cell_type": "markdown",
      "source": [
        "#  <font color=red>Sistemas Numericos</font>\n",
        "\n",
        "En el siguiente codigo podemos apreciar las distintas funciones que nos proporciona python para convertir numeros de nuestro sistema decimal a\n",
        "\n",
        "* Octal\n",
        "* Elemento de lista\n",
        "* Decimal\n",
        "* Hexadecimal\n",
        "\n",
        "Asi mismo en el siguiente modulo se observa un desglose de como realizamos manualmente una funcion que nos convierte un numero decimal a uno binario\n",
        "siendo de gran apoyo algunos metodos que python proporciona para las listas commo es **. insert** que nos apoya a la hora de anexar un elemento en la posicion que indiquemos\n",
        "siendo\n",
        "<font color=red>. insert(</font><font color=blue>posicion,elemento</font><font color=red>)</font>\n",
        "la manera en la que funciona dicho metodo\n",
        "\n",
        "\n"
      ],
      "metadata": {
        "id": "1Wb8AMY4YI55"
      }
    },
    {
      "cell_type": "code",
      "source": [
        "numero=26\n",
        "print(numero,\"Es el numero que vamos a expresar en binario, decimal, octal y hexadecimal \")\n",
        "\n",
        "\n",
        "print(numero,\"En decimal es \" ,numero)\n",
        "print(numero,\"En binario es \" ,bin(numero))\n",
        "print(numero,\"En octal es \" ,oct(numero))\n",
        "print(numero,\"En hexadecimal  es \" ,hex(numero))"
      ],
      "metadata": {
        "colab": {
          "base_uri": "https://localhost:8080/"
        },
        "id": "TTLISRYJPKd5",
        "outputId": "489da39a-bed2-4fb9-b00c-844ed4922535"
      },
      "execution_count": null,
      "outputs": [
        {
          "output_type": "stream",
          "name": "stdout",
          "text": [
            "26 Es el numero que vamos a expresar en binario, decimal, octal y hexadecimal \n",
            "26 En decimal es  26\n",
            "26 En binario es  0b11010\n",
            "26 En octal es  0o32\n",
            "26 En hexadecimal  es  0x1a\n"
          ]
        }
      ]
    },
    {
      "cell_type": "markdown",
      "source": [],
      "metadata": {
        "id": "CzuULkRNLJYC"
      }
    },
    {
      "cell_type": "code",
      "source": [
        "numero=2600556\n",
        "lista=[]\n",
        "#Para realizar este programa utilizamos while que funcionara si nuestro numero es mayor a 0\n",
        "while(numero>0):\n",
        "#Utilizamos el metodo .insert(posicion, elemento) que nos permite anexar un elemento en la posicion que indiquemos a nuestra lista\n",
        " lista.insert(0, numero%2)\n",
        " numero=numero//2\n",
        "#Al final solo imprimimos nuestra lista que contiene nuestro numero desglosado en binario\n",
        "lista\n",
        "\n",
        "\n"
      ],
      "metadata": {
        "colab": {
          "base_uri": "https://localhost:8080/"
        },
        "id": "Xe9GfA1tQmyY",
        "outputId": "fd90ca7a-6f27-4481-da88-b776f1c83017"
      },
      "execution_count": null,
      "outputs": [
        {
          "output_type": "execute_result",
          "data": {
            "text/plain": [
              "[1, 0, 0, 1, 1, 1, 1, 0, 1, 0, 1, 1, 1, 0, 0, 1, 1, 0, 1, 1, 0, 0]"
            ]
          },
          "metadata": {},
          "execution_count": 54
        }
      ]
    },
    {
      "cell_type": "code",
      "source": [
        "numero=0.5\n",
        "lista=[0,\".\"]\n",
        "#Para realizar este programa utilizamos while que funcionara si nuestro numero es diferente de 1\n",
        "while(numero!=1):\n",
        "#Utilizamos el metodo .append(elemento) que nos permite anexar un elemento en nuestra lista\n",
        " s=(numero*2)//1\n",
        " if (s==0.0):\n",
        "    s=0\n",
        " if (s==1.0):\n",
        "    s=1\n",
        " lista.append(s)\n",
        " numero=numero*2\n",
        "#Al final solo imprimimos nuestra lista que contiene nuestro numero desglosado en binario\n",
        "lista\n"
      ],
      "metadata": {
        "colab": {
          "base_uri": "https://localhost:8080/"
        },
        "id": "wGN9AuJsc9S3",
        "outputId": "259cc127-4028-4c25-f464-ed92c930c4a9"
      },
      "execution_count": null,
      "outputs": [
        {
          "output_type": "execute_result",
          "data": {
            "text/plain": [
              "[0, '.', 1]"
            ]
          },
          "metadata": {},
          "execution_count": 96
        }
      ]
    }
  ]
}