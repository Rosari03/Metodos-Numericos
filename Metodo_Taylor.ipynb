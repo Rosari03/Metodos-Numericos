{
  "nbformat": 4,
  "nbformat_minor": 0,
  "metadata": {
    "colab": {
      "provenance": [],
      "authorship_tag": "ABX9TyOuxvtxZFkTn9/QKpzlDqv6",
      "include_colab_link": true
    },
    "kernelspec": {
      "name": "python3",
      "display_name": "Python 3"
    },
    "language_info": {
      "name": "python"
    }
  },
  "cells": [
    {
      "cell_type": "markdown",
      "metadata": {
        "id": "view-in-github",
        "colab_type": "text"
      },
      "source": [
        "<a href=\"https://colab.research.google.com/github/Rosari03/Metodos-Numericos/blob/main/Metodo_Taylor.ipynb\" target=\"_parent\"><img src=\"https://colab.research.google.com/assets/colab-badge.svg\" alt=\"Open In Colab\"/></a>"
      ]
    },
    {
      "cell_type": "code",
      "source": [
        "import sympy as sp\n",
        "import math\n",
        "\n",
        "def metodo_taylor_simbolico():\n",
        "    # Parámetros\n",
        "    a = 0\n",
        "    b = 2\n",
        "    alpha = 0.5\n",
        "    N = 10\n",
        "    n = 1  # orden\n",
        "\n",
        "    print(\"Funcion de Taylor orden :\")\n",
        "    print(n)\n",
        "\n",
        "    # Definición simbólica\n",
        "    t_sym, y_sym = sp.symbols('t y')\n",
        "    f_sym = y_sym - t_sym**2 + 1\n",
        "\n",
        "    # Derivadas hasta orden n\n",
        "    derivadas = [f_sym]\n",
        "    for i in range(1, n):\n",
        "        f_prev = derivadas[-1]\n",
        "        df_dt = sp.diff(f_prev, t_sym) + sp.diff(f_prev, y_sym) * derivadas[0]\n",
        "        derivadas.append(sp.simplify(df_dt))\n",
        "\n",
        "    # Conversiones a funciones numéricas\n",
        "    derivadas_func = [sp.lambdify((t_sym, y_sym), d, modules=\"math\") for d in derivadas]\n",
        "\n",
        "    # Funcion real\n",
        "    def y_exacta(t):\n",
        "        return (t + 1)**2 - 0.5 * math.exp(t)\n",
        "\n",
        "    # Paso de integración\n",
        "    h = (b - a) / N\n",
        "    t = a\n",
        "    w = alpha\n",
        "\n",
        "    #  tabla\n",
        "    print(f\"{'ti':>6} {'wi':>10} {'yi':>12} {'|yi - wi|':>12}\")\n",
        "    print(\"=\" * 43)\n",
        "    print(f\"{t:6.1f} {w:10.7f} {y_exacta(t):12.7f} {abs(y_exacta(t) - w):12.7f}\")\n",
        "\n",
        "    # Iteración del método\n",
        "    for i in range(1, N + 1):\n",
        "        incremento = 0\n",
        "        for k in range(n):\n",
        "            incremento += (h**(k+1)) / math.factorial(k+1) * derivadas_func[k](t, w)\n",
        "        w = w + incremento\n",
        "        t = a + i * h\n",
        "        y_real = y_exacta(t)\n",
        "        error = abs(y_real - w)\n",
        "        print(f\"{t:6.1f} {w:10.7f} {y_real:12.7f} {error:12.7f}\")\n",
        "\n",
        "metodo_taylor_simbolico()\n"
      ],
      "metadata": {
        "colab": {
          "base_uri": "https://localhost:8080/"
        },
        "id": "rkm2i4c_SNWo",
        "outputId": "d4590a84-614a-4601-8eef-2cc8990432d2"
      },
      "execution_count": 13,
      "outputs": [
        {
          "output_type": "stream",
          "name": "stdout",
          "text": [
            "Funcion de Taylor orden :\n",
            "1\n",
            "    ti         wi           yi    |yi - wi|\n",
            "===========================================\n",
            "   0.0  0.5000000    0.5000000    0.0000000\n",
            "   0.2  0.8000000    0.8292986    0.0292986\n",
            "   0.4  1.1520000    1.2140877    0.0620877\n",
            "   0.6  1.5504000    1.6489406    0.0985406\n",
            "   0.8  1.9884800    2.1272295    0.1387495\n",
            "   1.0  2.4581760    2.6408591    0.1826831\n",
            "   1.2  2.9498112    3.1799415    0.2301303\n",
            "   1.4  3.4517734    3.7324000    0.2806266\n",
            "   1.6  3.9501281    4.2834838    0.3333557\n",
            "   1.8  4.4281538    4.8151763    0.3870225\n",
            "   2.0  4.8657845    5.3054720    0.4396874\n"
          ]
        }
      ]
    }
  ]
}