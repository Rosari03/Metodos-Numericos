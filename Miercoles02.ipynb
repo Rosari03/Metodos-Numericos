{
  "nbformat": 4,
  "nbformat_minor": 0,
  "metadata": {
    "colab": {
      "provenance": [],
      "authorship_tag": "ABX9TyMW8nmwmlzH8TxtAsCEJiNU",
      "include_colab_link": true
    },
    "kernelspec": {
      "name": "python3",
      "display_name": "Python 3"
    },
    "language_info": {
      "name": "python"
    }
  },
  "cells": [
    {
      "cell_type": "markdown",
      "metadata": {
        "id": "view-in-github",
        "colab_type": "text"
      },
      "source": [
        "<a href=\"https://colab.research.google.com/github/Rosari03/Metodos-Numericos/blob/main/Miercoles02.ipynb\" target=\"_parent\"><img src=\"https://colab.research.google.com/assets/colab-badge.svg\" alt=\"Open In Colab\"/></a>"
      ]
    },
    {
      "cell_type": "code",
      "execution_count": 127,
      "metadata": {
        "id": "_UX_Jnrmg8MD"
      },
      "outputs": [],
      "source": [
        "import sympy as sp\n",
        "from sympy import lambdify\n",
        "\n",
        "import numpy as np\n",
        "import matplotlib.pyplot as plt\n",
        "import math"
      ]
    },
    {
      "cell_type": "code",
      "source": [
        "x0=1\n",
        "x1=.6\n",
        "x2=.9"
      ],
      "metadata": {
        "id": "dzKeHy49g-7V"
      },
      "execution_count": 13,
      "outputs": []
    },
    {
      "cell_type": "code",
      "source": [
        "x,x1,x2,x0=sp.symbols('x x1 x2 x0')"
      ],
      "metadata": {
        "id": "Egk1p8BChNSM"
      },
      "execution_count": 48,
      "outputs": []
    },
    {
      "cell_type": "code",
      "source": [
        "fx0=sp.log(x0+1)\n",
        "fx1=sp.log(x1+1)\n",
        "fx2=sp.log(x2+1)"
      ],
      "metadata": {
        "id": "ZmBgrV2apjk-"
      },
      "execution_count": 85,
      "outputs": []
    },
    {
      "cell_type": "code",
      "source": [
        "\n",
        "l20=((x-x1)*(x-x2)/((x0-x1)*(x0-x2)))\n",
        "sp.sympify(l20)\n",
        "\n",
        "#fx.evalf(subs={x:x0})"
      ],
      "metadata": {
        "colab": {
          "base_uri": "https://localhost:8080/",
          "height": 57
        },
        "id": "RIpZY3dYjFlF",
        "outputId": "496f5126-6186-448a-ff95-f6e865349bb7"
      },
      "execution_count": 86,
      "outputs": [
        {
          "output_type": "execute_result",
          "data": {
            "text/plain": [
              "(x - x1)*(x - x2)/((x0 - x1)*(x0 - x2))"
            ],
            "text/latex": "$\\displaystyle \\frac{\\left(x - x_{1}\\right) \\left(x - x_{2}\\right)}{\\left(x_{0} - x_{1}\\right) \\left(x_{0} - x_{2}\\right)}$"
          },
          "metadata": {},
          "execution_count": 86
        }
      ]
    },
    {
      "cell_type": "code",
      "source": [
        "l21=((x-x0)*(x-x2)/((x1-x0)*(x1-x2)))\n",
        "sp.sympify(l21)\n"
      ],
      "metadata": {
        "colab": {
          "base_uri": "https://localhost:8080/",
          "height": 57
        },
        "id": "Z3KEwpRnpEMm",
        "outputId": "f362df7b-e9f7-4f5f-de2f-7d87427522e9"
      },
      "execution_count": 87,
      "outputs": [
        {
          "output_type": "execute_result",
          "data": {
            "text/plain": [
              "(x - x0)*(x - x2)/((-x0 + x1)*(x1 - x2))"
            ],
            "text/latex": "$\\displaystyle \\frac{\\left(x - x_{0}\\right) \\left(x - x_{2}\\right)}{\\left(- x_{0} + x_{1}\\right) \\left(x_{1} - x_{2}\\right)}$"
          },
          "metadata": {},
          "execution_count": 87
        }
      ]
    },
    {
      "cell_type": "code",
      "source": [
        "l22=((x-x0)*(x-x1)/((x2-x0)*(x2-x1)))\n",
        "sp.sympify(l22)\n"
      ],
      "metadata": {
        "colab": {
          "base_uri": "https://localhost:8080/",
          "height": 57
        },
        "id": "VwXePtsZpL_G",
        "outputId": "dfa4ac98-afb6-431e-b96e-ed834c8e557c"
      },
      "execution_count": 88,
      "outputs": [
        {
          "output_type": "execute_result",
          "data": {
            "text/plain": [
              "(x - x0)*(x - x1)/((-x0 + x2)*(-x1 + x2))"
            ],
            "text/latex": "$\\displaystyle \\frac{\\left(x - x_{0}\\right) \\left(x - x_{1}\\right)}{\\left(- x_{0} + x_{2}\\right) \\left(- x_{1} + x_{2}\\right)}$"
          },
          "metadata": {},
          "execution_count": 88
        }
      ]
    },
    {
      "cell_type": "code",
      "source": [
        "pl=fx0*l20+l21*fx1+l22*fx2\n",
        "sp.sympify(pl)"
      ],
      "metadata": {
        "colab": {
          "base_uri": "https://localhost:8080/",
          "height": 57
        },
        "id": "9snd_2GJkYwF",
        "outputId": "78c56eec-37ea-4855-c901-de2b200b6e2c"
      },
      "execution_count": 89,
      "outputs": [
        {
          "output_type": "execute_result",
          "data": {
            "text/plain": [
              "(x - x0)*(x - x1)*log(x2 + 1)/((-x0 + x2)*(-x1 + x2)) + (x - x0)*(x - x2)*log(x1 + 1)/((-x0 + x1)*(x1 - x2)) + (x - x1)*(x - x2)*log(x0 + 1)/((x0 - x1)*(x0 - x2))"
            ],
            "text/latex": "$\\displaystyle \\frac{\\left(x - x_{0}\\right) \\left(x - x_{1}\\right) \\log{\\left(x_{2} + 1 \\right)}}{\\left(- x_{0} + x_{2}\\right) \\left(- x_{1} + x_{2}\\right)} + \\frac{\\left(x - x_{0}\\right) \\left(x - x_{2}\\right) \\log{\\left(x_{1} + 1 \\right)}}{\\left(- x_{0} + x_{1}\\right) \\left(x_{1} - x_{2}\\right)} + \\frac{\\left(x - x_{1}\\right) \\left(x - x_{2}\\right) \\log{\\left(x_{0} + 1 \\right)}}{\\left(x_{0} - x_{1}\\right) \\left(x_{0} - x_{2}\\right)}$"
          },
          "metadata": {},
          "execution_count": 89
        }
      ]
    },
    {
      "cell_type": "code",
      "source": [
        "a=pl.subs({x0:0,x1:.6,x2:.9})\n",
        "sp.expand(a)"
      ],
      "metadata": {
        "colab": {
          "base_uri": "https://localhost:8080/",
          "height": 38
        },
        "id": "p6A4wOVep7OO",
        "outputId": "c53b6349-6ab8-4b9f-e4b1-1b39f11cd1fa"
      },
      "execution_count": 123,
      "outputs": [
        {
          "output_type": "execute_result",
          "data": {
            "text/plain": [
              "-0.233894658134107*x**2 + 0.92367617695669*x"
            ],
            "text/latex": "$\\displaystyle - 0.233894658134107 x^{2} + 0.92367617695669 x$"
          },
          "metadata": {},
          "execution_count": 123
        }
      ]
    },
    {
      "cell_type": "code",
      "source": [
        "f_numeric = lambdify(x, a, 'numpy')\n",
        "x_vals = np.linspace(0, 1, 100)\n",
        "y_vals = f_numeric(x_vals)\n",
        "plt.plot(x_vals, y_vals, label=\"f(x) = -0.233894658134107x^2 + 0.92367617695669x\")\n",
        "\n",
        "\n",
        "plt.title(\"Gráfica de la función\")\n",
        "plt.grid(True)\n",
        "plt.legend()\n",
        "plt.scatter(x0,math.log(1+x0))\n",
        "plt.scatter(x1,math.log(1+x1))\n",
        "plt.scatter(x2,math.log(1+x2))\n",
        "plt.show()\n"
      ],
      "metadata": {
        "colab": {
          "base_uri": "https://localhost:8080/",
          "height": 767
        },
        "id": "nyxdouHwuk9P",
        "outputId": "b211e3e1-e6e3-4c62-cbe2-ac7df53768d1"
      },
      "execution_count": 160,
      "outputs": [
        {
          "output_type": "error",
          "ename": "TypeError",
          "evalue": "Cannot convert expression to float",
          "traceback": [
            "\u001b[0;31m---------------------------------------------------------------------------\u001b[0m",
            "\u001b[0;31mTypeError\u001b[0m                                 Traceback (most recent call last)",
            "\u001b[0;32m<ipython-input-160-2e7d56ee37af>\u001b[0m in \u001b[0;36m<cell line: 0>\u001b[0;34m()\u001b[0m\n\u001b[1;32m      8\u001b[0m \u001b[0mplt\u001b[0m\u001b[0;34m.\u001b[0m\u001b[0mgrid\u001b[0m\u001b[0;34m(\u001b[0m\u001b[0;32mTrue\u001b[0m\u001b[0;34m)\u001b[0m\u001b[0;34m\u001b[0m\u001b[0;34m\u001b[0m\u001b[0m\n\u001b[1;32m      9\u001b[0m \u001b[0mplt\u001b[0m\u001b[0;34m.\u001b[0m\u001b[0mlegend\u001b[0m\u001b[0;34m(\u001b[0m\u001b[0;34m)\u001b[0m\u001b[0;34m\u001b[0m\u001b[0;34m\u001b[0m\u001b[0m\n\u001b[0;32m---> 10\u001b[0;31m \u001b[0mplt\u001b[0m\u001b[0;34m.\u001b[0m\u001b[0mscatter\u001b[0m\u001b[0;34m(\u001b[0m\u001b[0mx0\u001b[0m\u001b[0;34m,\u001b[0m\u001b[0mmath\u001b[0m\u001b[0;34m.\u001b[0m\u001b[0mlog\u001b[0m\u001b[0;34m(\u001b[0m\u001b[0;36m1\u001b[0m\u001b[0;34m+\u001b[0m\u001b[0mx0\u001b[0m\u001b[0;34m)\u001b[0m\u001b[0;34m)\u001b[0m\u001b[0;34m\u001b[0m\u001b[0;34m\u001b[0m\u001b[0m\n\u001b[0m\u001b[1;32m     11\u001b[0m \u001b[0mplt\u001b[0m\u001b[0;34m.\u001b[0m\u001b[0mscatter\u001b[0m\u001b[0;34m(\u001b[0m\u001b[0mx1\u001b[0m\u001b[0;34m,\u001b[0m\u001b[0mmath\u001b[0m\u001b[0;34m.\u001b[0m\u001b[0mlog\u001b[0m\u001b[0;34m(\u001b[0m\u001b[0;36m1\u001b[0m\u001b[0;34m+\u001b[0m\u001b[0mx1\u001b[0m\u001b[0;34m)\u001b[0m\u001b[0;34m)\u001b[0m\u001b[0;34m\u001b[0m\u001b[0;34m\u001b[0m\u001b[0m\n\u001b[1;32m     12\u001b[0m \u001b[0mplt\u001b[0m\u001b[0;34m.\u001b[0m\u001b[0mscatter\u001b[0m\u001b[0;34m(\u001b[0m\u001b[0mx2\u001b[0m\u001b[0;34m,\u001b[0m\u001b[0mmath\u001b[0m\u001b[0;34m.\u001b[0m\u001b[0mlog\u001b[0m\u001b[0;34m(\u001b[0m\u001b[0;36m1\u001b[0m\u001b[0;34m+\u001b[0m\u001b[0mx2\u001b[0m\u001b[0;34m)\u001b[0m\u001b[0;34m)\u001b[0m\u001b[0;34m\u001b[0m\u001b[0;34m\u001b[0m\u001b[0m\n",
            "\u001b[0;32m/usr/local/lib/python3.11/dist-packages/sympy/core/expr.py\u001b[0m in \u001b[0;36m__float__\u001b[0;34m(self)\u001b[0m\n\u001b[1;32m    338\u001b[0m         \u001b[0;32mif\u001b[0m \u001b[0mresult\u001b[0m\u001b[0;34m.\u001b[0m\u001b[0mis_number\u001b[0m \u001b[0;32mand\u001b[0m \u001b[0mresult\u001b[0m\u001b[0;34m.\u001b[0m\u001b[0mas_real_imag\u001b[0m\u001b[0;34m(\u001b[0m\u001b[0;34m)\u001b[0m\u001b[0;34m[\u001b[0m\u001b[0;36m1\u001b[0m\u001b[0;34m]\u001b[0m\u001b[0;34m:\u001b[0m\u001b[0;34m\u001b[0m\u001b[0;34m\u001b[0m\u001b[0m\n\u001b[1;32m    339\u001b[0m             \u001b[0;32mraise\u001b[0m \u001b[0mTypeError\u001b[0m\u001b[0;34m(\u001b[0m\u001b[0;34m\"Cannot convert complex to float\"\u001b[0m\u001b[0;34m)\u001b[0m\u001b[0;34m\u001b[0m\u001b[0;34m\u001b[0m\u001b[0m\n\u001b[0;32m--> 340\u001b[0;31m         \u001b[0;32mraise\u001b[0m \u001b[0mTypeError\u001b[0m\u001b[0;34m(\u001b[0m\u001b[0;34m\"Cannot convert expression to float\"\u001b[0m\u001b[0;34m)\u001b[0m\u001b[0;34m\u001b[0m\u001b[0;34m\u001b[0m\u001b[0m\n\u001b[0m\u001b[1;32m    341\u001b[0m \u001b[0;34m\u001b[0m\u001b[0m\n\u001b[1;32m    342\u001b[0m     \u001b[0;32mdef\u001b[0m \u001b[0m__complex__\u001b[0m\u001b[0;34m(\u001b[0m\u001b[0mself\u001b[0m\u001b[0;34m)\u001b[0m\u001b[0;34m:\u001b[0m\u001b[0;34m\u001b[0m\u001b[0;34m\u001b[0m\u001b[0m\n",
            "\u001b[0;31mTypeError\u001b[0m: Cannot convert expression to float"
          ]
        },
        {
          "output_type": "display_data",
          "data": {
            "text/plain": [
              "<Figure size 640x480 with 1 Axes>"
            ],
            "image/png": "[encoded data removed]"
          },
          "metadata": {}
        }
      ]
    }
  ]
}