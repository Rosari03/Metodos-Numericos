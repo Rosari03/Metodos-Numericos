{
  "nbformat": 4,
  "nbformat_minor": 0,
  "metadata": {
    "colab": {
      "provenance": [],
      "include_colab_link": true
    },
    "kernelspec": {
      "name": "python3",
      "display_name": "Python 3"
    },
    "language_info": {
      "name": "python"
    }
  },
  "cells": [
    {
      "cell_type": "markdown",
      "metadata": {
        "id": "view-in-github",
        "colab_type": "text"
      },
      "source": [
        "<a href=\"https://colab.research.google.com/github/Rosari03/Metodos-Numericos/blob/main/metodo_de_Punto_Fijo.ipynb\" target=\"_parent\"><img src=\"https://colab.research.google.com/assets/colab-badge.svg\" alt=\"Open In Colab\"/></a>"
      ]
    },
    {
      "cell_type": "code",
      "source": [
        "import math                 #En este apartado declaramos las librerias matematicas y la que nos servira para graficar mas adelante\n",
        "import tabulate\n",
        "from tabulate import tabulate"
      ],
      "metadata": {
        "id": "s8uWOkKUand4"
      },
      "execution_count": 1,
      "outputs": []
    },
    {
      "cell_type": "markdown",
      "source": [
        "Nuestra funcion original sera $f(x)=x^3+4x^2-10=0$"
      ],
      "metadata": {
        "id": "sOcZiVtR6EJr"
      }
    },
    {
      "cell_type": "markdown",
      "source": [
        "Definiremos a g(x) como : $g(x)=\\sqrt{\\frac{10}{4+x}}$\n"
      ],
      "metadata": {
        "id": "U9jgjFM_6_m-"
      }
    },
    {
      "cell_type": "code",
      "source": [
        "def gx(x):                 #Esta funcion solo es la evaluacion de nuestros x0 para generar aproximaciones\n",
        "    a=(10/(4+x))**(1/2)\n",
        "    return a\n"
      ],
      "metadata": {
        "id": "qBtHF1b1bMgO"
      },
      "execution_count": 34,
      "outputs": []
    },
    {
      "cell_type": "code",
      "source": [
        "po=1.5                     #Nuestro valor inicial o aproximacion inicial\n",
        "n=10                       #n= Número de iteraciones de nuestro programa\n",
        "lp=[po]                    #lpo,lerror son las listas que guardan nuestras variables\n",
        "lerror=[0]\n",
        "lit=[1]\n",
        "\n"
      ],
      "metadata": {
        "id": "07LRSB_qaseF"
      },
      "execution_count": 36,
      "outputs": []
    },
    {
      "cell_type": "code",
      "source": [
        "i=1                        #Nuestro while nos permite hacer n iteraciones\n",
        "while n:                   #p es nuestra posible aproximacion de raíz\n",
        "   p=gx(po)\n",
        "   po=p                   #Actualizamos el nuevo valor de po para evaluar en g(x)\n",
        "   lp.append(po)          #Tomaremos el error como la diferencia de las 2 ultimas posiciones de lp\n",
        "   lerror.append(abs((lp[-1]-lp[-2])))\n",
        "   i+=1\n",
        "   lit.append(i)\n",
        "   n-=1\n"
      ],
      "metadata": {
        "id": "oJK-IT7xKHKt"
      },
      "execution_count": 37,
      "outputs": []
    },
    {
      "cell_type": "code",
      "source": [
        "tabla=list(zip(lit,lp,lerror))\n",
        "headers=[\"Iteracion\",\"p\",\"ERROR\"]\n",
        "print(tabulate(tabla,headers=headers,tablefmt=\"grid\"))   #Imprimimos la tabla y listo :3"
      ],
      "metadata": {
        "colab": {
          "base_uri": "https://localhost:8080/"
        },
        "id": "IpAWqbwgbZfD",
        "outputId": "543e8057-7621-46c0-9307-03715aaf815f"
      },
      "execution_count": 38,
      "outputs": [
        {
          "output_type": "stream",
          "name": "stdout",
          "text": [
            "+-------------+---------+-------------+\n",
            "|   Iteracion |       p |       ERROR |\n",
            "+=============+=========+=============+\n",
            "|           1 | 1.5     | 0           |\n",
            "+-------------+---------+-------------+\n",
            "|           2 | 1.3484  | 0.1516      |\n",
            "+-------------+---------+-------------+\n",
            "|           3 | 1.36738 | 0.0189766   |\n",
            "+-------------+---------+-------------+\n",
            "|           4 | 1.36496 | 0.00241936  |\n",
            "+-------------+---------+-------------+\n",
            "|           5 | 1.36526 | 0.000307733 |\n",
            "+-------------+---------+-------------+\n",
            "|           6 | 1.36523 | 3.9154e-05  |\n",
            "+-------------+---------+-------------+\n",
            "|           7 | 1.36523 | 4.98151e-06 |\n",
            "+-------------+---------+-------------+\n",
            "|           8 | 1.36523 | 6.33795e-07 |\n",
            "+-------------+---------+-------------+\n",
            "|           9 | 1.36523 | 8.06374e-08 |\n",
            "+-------------+---------+-------------+\n",
            "|          10 | 1.36523 | 1.02594e-08 |\n",
            "+-------------+---------+-------------+\n",
            "|          11 | 1.36523 | 1.3053e-09  |\n",
            "+-------------+---------+-------------+\n"
          ]
        }
      ]
    }
  ]
}