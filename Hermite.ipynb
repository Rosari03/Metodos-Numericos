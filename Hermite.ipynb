{
  "nbformat": 4,
  "nbformat_minor": 0,
  "metadata": {
    "colab": {
      "provenance": [],
      "authorship_tag": "ABX9TyMWSg9mjy4I/U8VHJtFL9M1",
      "include_colab_link": true
    },
    "kernelspec": {
      "name": "python3",
      "display_name": "Python 3"
    },
    "language_info": {
      "name": "python"
    }
  },
  "cells": [
    {
      "cell_type": "markdown",
      "metadata": {
        "id": "view-in-github",
        "colab_type": "text"
      },
      "source": [
        "<a href=\"https://colab.research.google.com/github/Rosari03/Metodos-Numericos/blob/main/Hermite.ipynb\" target=\"_parent\"><img src=\"https://colab.research.google.com/assets/colab-badge.svg\" alt=\"Open In Colab\"/></a>"
      ]
    },
    {
      "cell_type": "markdown",
      "source": [
        "# Diferencias Divididas\n",
        "\n",
        "\n",
        "Este metodo es una algortimno numerico para calcular y/o generar sucesivamente aproximaciones polinomiales de grado superior en especifico.\n",
        "Se usan para generar sucesivamente los polinomios en si mismos\n",
        "\n"
      ],
      "metadata": {
        "id": "gW1PQHLMxr1d"
      }
    },
    {
      "cell_type": "markdown",
      "source": [
        "# El metodo\n",
        "Basicamente tenemos que seguir la siguiente formula\n",
        "\n",
        "$a_{i}= \\frac{(f(x_{i})-f(x_0)}{(x_i-x_0)}$\n",
        "\n",
        "donde nos dara como resultado la notacion de diferencias divididas"
      ],
      "metadata": {
        "id": "zb2HasUJ7rqh"
      }
    },
    {
      "cell_type": "code",
      "execution_count": 25,
      "metadata": {
        "id": "ftcN68Ubm0XJ"
      },
      "outputs": [],
      "source": [
        "import sympy as sp\n",
        "from sympy import sympify, lambdify\n",
        "import numpy as np\n",
        "import matplotlib.pyplot as plt\n",
        "import math\n"
      ]
    },
    {
      "cell_type": "code",
      "source": [
        "\n",
        "\n",
        "def hermite(X: list[float] | np.ndarray, y: list[float], z: list[float]):\n",
        "    n = len(X)\n",
        "    w = 2 * n\n",
        "    mat = np.zeros((w, w), dtype=object)\n",
        "    X_hermite = [x for x in X for _ in range(2)]  # duplicar cada x\n",
        "    Z_h = [z for z in z for _ in range(2)]  # duplicar cada x\n",
        "\n",
        "\n",
        "    # Primera columna\n",
        "    for i in range(n):\n",
        "        mat[2*i, 0] = y[i]\n",
        "        mat[2*i+1, 0] = y[i]\n",
        "        mat[2*i, 1] = z[i]\n",
        "\n",
        "    #segunda columna\n",
        "    for i in range(n-1):\n",
        "      if (i/2):\n",
        "           num = mat[i+1, 0] - mat[i, 0]\n",
        "           den = X_hermite[i+1] - X_hermite[i]\n",
        "           mat[i, 1] = num / den if den != 0 else 0\n",
        "      else:\n",
        "        mat[i, 1] =Z_h[i]\n",
        "\n",
        "\n",
        "    # Resto de la tabla\n",
        "    for j in range(2, w):\n",
        "        for i in range(w - j):\n",
        "            num = mat[i+1, j-1] - mat[i, j-1]\n",
        "            den = X_hermite[i+j] - X_hermite[i]\n",
        "            mat[i, j] = num / den if den != 0 else 0  # Evitar división por cero\n",
        "    print(Z_h)\n",
        "    return mat\n"
      ],
      "metadata": {
        "id": "OP61eqU1_9Qd"
      },
      "execution_count": 35,
      "outputs": []
    },
    {
      "cell_type": "code",
      "source": [
        "\n",
        "X=[1.3,1.6,1.9]\n",
        "Y=[.6200860,.4554022,.2818186]\n",
        "Z=[-0.5220232,-.5698959,-.5811571]\n",
        "\n",
        "\n",
        "\n",
        "diferencias=hermite(X,Y,Z)\n",
        "\n",
        "\n",
        "for fila in diferencias:\n",
        "    print([round(val,7) if val !=0 else \"\" for val in fila])\n",
        "\n",
        "\n"
      ],
      "metadata": {
        "id": "Yp3FLi9pv4qB",
        "colab": {
          "base_uri": "https://localhost:8080/"
        },
        "outputId": "717f3e87-a3de-4e95-b0be-0793bc068579"
      },
      "execution_count": 37,
      "outputs": [
        {
          "output_type": "stream",
          "name": "stdout",
          "text": [
            "[-0.5220232, -0.5220232, -0.5698959, -0.5698959, -0.5811571, -0.5811571]\n",
            "[0.620086, -0.5220232, -0.0897427, 0.0663656, 5.3601852, -53.5779599]\n",
            "[0.620086, -0.548946, -0.069833, 3.2824767, -26.7865907, '']\n",
            "[0.4554022, -0.5698959, 1.899653, -12.7894778, '', '']\n",
            "[0.4554022, '', -1.9371903, '', '', '']\n",
            "[0.2818186, -0.5811571, '', '', '', '']\n",
            "[0.2818186, '', '', '', '', '']\n"
          ]
        }
      ]
    }
  ]
}