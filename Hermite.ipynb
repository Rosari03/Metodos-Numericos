{
  "nbformat": 4,
  "nbformat_minor": 0,
  "metadata": {
    "colab": {
      "provenance": [],
      "authorship_tag": "ABX9TyMwLFVCV3WIwEnQD38PWZi+",
      "include_colab_link": true
    },
    "kernelspec": {
      "name": "python3",
      "display_name": "Python 3"
    },
    "language_info": {
      "name": "python"
    }
  },
  "cells": [
    {
      "cell_type": "markdown",
      "metadata": {
        "id": "view-in-github",
        "colab_type": "text"
      },
      "source": [
        "<a href=\"https://colab.research.google.com/github/Rosari03/Metodos-Numericos/blob/main/Hermite.ipynb\" target=\"_parent\"><img src=\"https://colab.research.google.com/assets/colab-badge.svg\" alt=\"Open In Colab\"/></a>"
      ]
    },
    {
      "cell_type": "markdown",
      "source": [
        "# Diferencias Divididas\n",
        "\n",
        "\n",
        "Este metodo es una algortimno numerico para calcular y/o generar sucesivamente aproximaciones polinomiales de grado superior en especifico.\n",
        "Se usan para generar sucesivamente los polinomios en si mismos\n",
        "\n"
      ],
      "metadata": {
        "id": "gW1PQHLMxr1d"
      }
    },
    {
      "cell_type": "markdown",
      "source": [
        "# El metodo\n",
        "Basicamente tenemos que seguir la siguiente formula\n",
        "\n",
        "$a_{i}= \\frac{(f(x_{i})-f(x_0)}{(x_i-x_0)}$\n",
        "\n",
        "donde nos dara como resultado la notacion de diferencias divididas"
      ],
      "metadata": {
        "id": "zb2HasUJ7rqh"
      }
    },
    {
      "cell_type": "code",
      "execution_count": 118,
      "metadata": {
        "id": "ftcN68Ubm0XJ"
      },
      "outputs": [],
      "source": [
        "import sympy as sp\n",
        "from sympy import sympify, lambdify\n",
        "import numpy as np\n",
        "import matplotlib.pyplot as plt\n",
        "import math\n"
      ]
    },
    {
      "cell_type": "code",
      "source": [
        "\n",
        "\n",
        "def hermite(X: list[float] | np.ndarray, y: list[float], z: list[float]):\n",
        "    n = len(X)\n",
        "    w = 2 * n\n",
        "    mat = np.zeros((w, w), dtype=object)\n",
        "    X_hermite = [x for x in X for _ in range(2)]  # duplicar cada x\n",
        "\n",
        "    # Primera columna\n",
        "    for i in range(n):\n",
        "        mat[2*i, 0] = y[i]\n",
        "        mat[2*i+1, 0] = y[i]\n",
        "        mat[2*i, 1] = z[i]\n",
        "        if i < n - 1:\n",
        "            mat[2*i+1, 1] = (y[i+1] - y[i]) / (X[i+1] - X[i])\n",
        "        else:\n",
        "            mat[2*i+1, 1] = z[i]\n",
        "\n",
        "\n",
        "\n",
        "    # Resto de la tabla\n",
        "    for j in range(2, w):\n",
        "        for i in range(w - j):\n",
        "            num = mat[i+1, j-1] - mat[i, j-1]\n",
        "            den = X_hermite[i+j] - X_hermite[i]\n",
        "            mat[i, j] = num / den if den != 0 else 0  # Evitar división por cero\n",
        "\n",
        "    return mat\n"
      ],
      "metadata": {
        "id": "OP61eqU1_9Qd"
      },
      "execution_count": 136,
      "outputs": []
    },
    {
      "cell_type": "code",
      "source": [
        "\n",
        "X=[1.3,1.6,1.9]\n",
        "Y=[.6200860,.4554022,.2818186]\n",
        "Z=[-0.5220232,-.5698959,-.5811571]\n",
        "\n",
        "diferencias=hermite(X,Y,Z)\n",
        "\n",
        "\n",
        "for fila in diferencias:\n",
        "    print([round(val,7) if val !=0 else \"\" for val in fila])\n",
        "\n",
        "\n"
      ],
      "metadata": {
        "id": "Yp3FLi9pv4qB",
        "colab": {
          "base_uri": "https://localhost:8080/",
          "height": 341
        },
        "outputId": "14d8da53-0aee-47b8-a424-0458dc4cffa7"
      },
      "execution_count": 135,
      "outputs": [
        {
          "output_type": "error",
          "ename": "IndexError",
          "evalue": "index 6 is out of bounds for axis 0 with size 6",
          "traceback": [
            "\u001b[0;31m---------------------------------------------------------------------------\u001b[0m",
            "\u001b[0;31mIndexError\u001b[0m                                Traceback (most recent call last)",
            "\u001b[0;32m<ipython-input-135-3186012a248f>\u001b[0m in \u001b[0;36m<cell line: 0>\u001b[0;34m()\u001b[0m\n\u001b[1;32m      3\u001b[0m \u001b[0mZ\u001b[0m\u001b[0;34m=\u001b[0m\u001b[0;34m[\u001b[0m\u001b[0;34m-\u001b[0m\u001b[0;36m0.5220232\u001b[0m\u001b[0;34m,\u001b[0m\u001b[0;34m-\u001b[0m\u001b[0;36m.5698959\u001b[0m\u001b[0;34m,\u001b[0m\u001b[0;34m-\u001b[0m\u001b[0;36m.5811571\u001b[0m\u001b[0;34m]\u001b[0m\u001b[0;34m\u001b[0m\u001b[0;34m\u001b[0m\u001b[0m\n\u001b[1;32m      4\u001b[0m \u001b[0;34m\u001b[0m\u001b[0m\n\u001b[0;32m----> 5\u001b[0;31m \u001b[0mdiferencias\u001b[0m\u001b[0;34m=\u001b[0m\u001b[0mhermite\u001b[0m\u001b[0;34m(\u001b[0m\u001b[0mX\u001b[0m\u001b[0;34m,\u001b[0m\u001b[0mY\u001b[0m\u001b[0;34m,\u001b[0m\u001b[0mZ\u001b[0m\u001b[0;34m)\u001b[0m\u001b[0;34m\u001b[0m\u001b[0;34m\u001b[0m\u001b[0m\n\u001b[0m\u001b[1;32m      6\u001b[0m \u001b[0;34m\u001b[0m\u001b[0m\n\u001b[1;32m      7\u001b[0m \u001b[0;34m\u001b[0m\u001b[0m\n",
            "\u001b[0;32m<ipython-input-134-86381fef2c15>\u001b[0m in \u001b[0;36mhermite\u001b[0;34m(X, y, z)\u001b[0m\n\u001b[1;32m     14\u001b[0m         \u001b[0;32melse\u001b[0m\u001b[0;34m:\u001b[0m\u001b[0;34m\u001b[0m\u001b[0;34m\u001b[0m\u001b[0m\n\u001b[1;32m     15\u001b[0m             \u001b[0mmat\u001b[0m\u001b[0;34m[\u001b[0m\u001b[0;36m2\u001b[0m\u001b[0;34m*\u001b[0m\u001b[0mi\u001b[0m\u001b[0;34m+\u001b[0m\u001b[0;36m1\u001b[0m\u001b[0;34m,\u001b[0m \u001b[0;36m1\u001b[0m\u001b[0;34m]\u001b[0m \u001b[0;34m=\u001b[0m \u001b[0mz\u001b[0m\u001b[0;34m[\u001b[0m\u001b[0mi\u001b[0m\u001b[0;34m]\u001b[0m\u001b[0;34m\u001b[0m\u001b[0;34m\u001b[0m\u001b[0m\n\u001b[0;32m---> 16\u001b[0;31m         \u001b[0mmat\u001b[0m\u001b[0;34m[\u001b[0m\u001b[0mw\u001b[0m\u001b[0;34m,\u001b[0m\u001b[0;36m1\u001b[0m\u001b[0;34m]\u001b[0m\u001b[0;34m=\u001b[0m\u001b[0;36m0\u001b[0m\u001b[0;34m\u001b[0m\u001b[0;34m\u001b[0m\u001b[0m\n\u001b[0m\u001b[1;32m     17\u001b[0m \u001b[0;34m\u001b[0m\u001b[0m\n\u001b[1;32m     18\u001b[0m     \u001b[0;31m# Resto de la tabla\u001b[0m\u001b[0;34m\u001b[0m\u001b[0;34m\u001b[0m\u001b[0m\n",
            "\u001b[0;31mIndexError\u001b[0m: index 6 is out of bounds for axis 0 with size 6"
          ]
        }
      ]
    }
  ]
}