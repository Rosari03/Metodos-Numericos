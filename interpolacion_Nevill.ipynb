{
  "nbformat": 4,
  "nbformat_minor": 0,
  "metadata": {
    "colab": {
      "provenance": [],
      "authorship_tag": "ABX9TyN6Y3rlf62p8Hziy33cRz9Z",
      "include_colab_link": true
    },
    "kernelspec": {
      "name": "python3",
      "display_name": "Python 3"
    },
    "language_info": {
      "name": "python"
    }
  },
  "cells": [
    {
      "cell_type": "markdown",
      "metadata": {
        "id": "view-in-github",
        "colab_type": "text"
      },
      "source": [
        "<a href=\"https://colab.research.google.com/github/Rosari03/Metodos-Numericos/blob/main/interpolacion_Nevill.ipynb\" target=\"_parent\"><img src=\"https://colab.research.google.com/assets/colab-badge.svg\" alt=\"Open In Colab\"/></a>"
      ]
    },
    {
      "cell_type": "markdown",
      "source": [
        "# Interpolacion iterada de Neville\n",
        "\n",
        "Este metodo es una lgortimno numerico para calcular el valor de un polinomio interpolante en un punto dado nosotros lo llamaremos *Z* sin necesidad de recontruir todo el polinomio symbolicamente\n",
        "\n"
      ],
      "metadata": {
        "id": "gW1PQHLMxr1d"
      }
    },
    {
      "cell_type": "markdown",
      "source": [
        "# El metodo para encontrar este polinomio\n",
        "Basicamente tenemos que seguir la siguiente formula\n",
        "\n",
        "$Q_{I,J}= \\frac{(x-x_{i,j})Q_{i,j-1}-(x-x_i)Q_{i-1,j-1}}{(x_i-x_{i-j})}$\n",
        "\n",
        "donde nos dara como resultado un valor interpolado aproximado"
      ],
      "metadata": {
        "id": "zb2HasUJ7rqh"
      }
    },
    {
      "cell_type": "code",
      "execution_count": null,
      "metadata": {
        "id": "ftcN68Ubm0XJ"
      },
      "outputs": [],
      "source": [
        "import sympy as sp\n",
        "from sympy import sympify, lambdify\n",
        "import numpy as np\n",
        "import matplotlib.pyplot as plt\n",
        "import math\n"
      ]
    },
    {
      "cell_type": "code",
      "source": [
        "\n",
        "def nevill(X: list[float] | np.ndarray, y: list[float] | np.ndarray, x:float):\n",
        "    n = len(X)\n",
        "    nev = np.zeros((n, n), dtype=object)\n",
        "\n",
        "    # Primera columna: los valores de y\n",
        "    for i in range(n):\n",
        "        nev[i, 0] = y[i]\n",
        "\n",
        "    # Rellenar la tabla de Neville\n",
        "    for j in range(1, n):\n",
        "        for i in range(j, n):\n",
        "            numer = (x - X[i - j]) * nev[i, j - 1] - (x - X[i]) * nev[i - 1, j - 1]\n",
        "            denom = X[i] - X[i - j]\n",
        "            nev[i, j] = numer / denom\n",
        "    return nev"
      ],
      "metadata": {
        "id": "kjOrCQWMsq7t"
      },
      "execution_count": null,
      "outputs": []
    },
    {
      "cell_type": "code",
      "source": [
        "X=[1,1.3,1.6,1.9,2.2]\n",
        "Y=[.7651977,0.6200860,.4554022,.2818186,0.1103623]\n",
        "z=1.5\n",
        "#Z es el valor al que queremos aproximar\n",
        "nev=nevill(X,Y,z)\n",
        "print(nev)\n"
      ],
      "metadata": {
        "id": "Yp3FLi9pv4qB",
        "colab": {
          "base_uri": "https://localhost:8080/"
        },
        "outputId": "f24e5a55-ecc5-4f87-88f2-3fd161776fa6"
      },
      "execution_count": null,
      "outputs": [
        {
          "output_type": "stream",
          "name": "stdout",
          "text": [
            "[[0.7651977 0 0 0 0]\n",
            " [0.620086 0.5233448666666667 0 0 0]\n",
            " [0.4554022 0.5102968 0.5124714777777778 0 0]\n",
            " [0.2818186 0.5132634 0.5112856666666666 0.5118126938271604 0]\n",
            " [0.1103623 0.5104269999999997 0.5137361333333335 0.5118302148148148\n",
            "  0.5118199942386831]]\n"
          ]
        }
      ]
    }
  ]
}