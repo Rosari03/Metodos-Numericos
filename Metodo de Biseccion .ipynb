{
  "nbformat": 4,
  "nbformat_minor": 0,
  "metadata": {
    "colab": {
      "provenance": [],
      "authorship_tag": "ABX9TyNvoYTIEpY7FWJrQNKWKRe1",
      "include_colab_link": true
    },
    "kernelspec": {
      "name": "python3",
      "display_name": "Python 3"
    },
    "language_info": {
      "name": "python"
    }
  },
  "cells": [
    {
      "cell_type": "markdown",
      "metadata": {
        "id": "view-in-github",
        "colab_type": "text"
      },
      "source": [
        "<a href=\"https://colab.research.google.com/github/Rosari03/Metodos-Numericos/blob/main/Metodo%20de%20Biseccion%20.ipynb\" target=\"_parent\"><img src=\"https://colab.research.google.com/assets/colab-badge.svg\" alt=\"Open In Colab\"/></a>"
      ]
    },
    {
      "cell_type": "code",
      "source": [
        "import math                   #Importamos las librerias para la creacion de la tabla\n",
        "from math import asin         #y tambien para las funciones matematicas que necesitemos\n",
        "import tabulate\n",
        "from tabulate import tabulate"
      ],
      "metadata": {
        "id": "s8uWOkKUand4"
      },
      "execution_count": 49,
      "outputs": []
    },
    {
      "cell_type": "code",
      "source": [
        "liter=[1]                     #xi=Cota inferior\n",
        "xi=2                          #xs=Cota superior\n",
        "xs=3                          #xm=Punto medio o bien nuestro posible valor que estamos buscando\n",
        "xm=(xi+xs)/2                  #n=Numero de iteraciones que deseamos\n",
        "lxi=[xi]                      #lxi,lxs,lxm,liter,lfmx son listas que guardan los valores de los valores antes mencionados\n",
        "lxs=[xs]\n",
        "lxm=[xm]\n",
        "n=13\n",
        "fxm=0                        #fxm es la funcion evaluada en xm\n",
        "lerror=[0]\n",
        "lfxm=[]\n",
        "i=1"
      ],
      "metadata": {
        "id": "07LRSB_qaseF"
      },
      "execution_count": 55,
      "outputs": []
    },
    {
      "cell_type": "code",
      "source": [
        "#def fun(x):\n",
        "#  a=asin(x)+x*math.sqrt(1-(x*x))-.3307     #Este apartado es para definir las funciones para aproximar nuestro resultado\n",
        "#  return a\n",
        "def fun(x):                                 #Dependiendo de las operaciones matematicas tendremos que agregar mas librerias o funciones\n",
        "  a=(x*x*x)-25\n",
        "  return a"
      ],
      "metadata": {
        "id": "qBtHF1b1bMgO"
      },
      "execution_count": 51,
      "outputs": []
    },
    {
      "cell_type": "code",
      "execution_count": 53,
      "metadata": {
        "id": "6jlTI82XIuAf"
      },
      "outputs": [],
      "source": [
        "while n:\n",
        "  fxm=fun(xm)                               #La parte interesante del codigo :)\n",
        "  fxi=fun(xi)                               #las variables fxm,fxi,fxs son las funciones evaluadas en las variables que se describen en el nombre\n",
        "  fxs=fun(xs)\n",
        "  lfxm.append(fxm)   #<---------------------Se agrega la funcion evaluada en nuestra lista de valores aproximados a la solucion\n",
        "  if fxi*fxm<0:      #<---------------------Con esta condicional verificamos que nuestro intervalo siga cumpliendo con el teorema del valor intermedio\n",
        "    xs=xm\n",
        "  elif fxi*fxm>0:    #<---------------------En este caso funciona de la misma manera que el anterior if\n",
        "    xi=xm\n",
        "  n-=1\n",
        "  lxi.append(xi)                            #lx_ es donde anexamos los nuevos intervalos de acuerdo a nuestro algoritmo\n",
        "  lxs.append(xs)\n",
        "  xm=(xi+xs)/2                              #Definimos el nuevo valor medio de acuerdo a nuestros intervalos\n",
        "  lxm.append(xm)\n",
        "  i+=1                                      #Aqui solo es para sumar una nueva iteracion a nuestra lista\n",
        "  liter.append(i)\n",
        "  lerror.append(abs(lxm[i-1]-lxm[i-2]))     #aqui anexamos los errores a la lista, el cual lo guarda como la resta de los 2 valores de XM anteriores"
      ]
    },
    {
      "cell_type": "code",
      "source": [
        "tabla=list(zip(liter,lxi,lxs,lxm,lfxm,lerror)) #Como creamos listas para nuestras variables solo definimos la tabla con las listas como columnas\n",
        "headers=[\"n\",\"xi\",\"xs\",\"xm\",\"fxm\",\"ERROR\"]     #Y el nombre de sus encabezados\n",
        "\n",
        "print(tabulate(tabla,headers=headers,tablefmt=\"grid\"))   #Imprimimos la tabla y listo :3"
      ],
      "metadata": {
        "colab": {
          "base_uri": "https://localhost:8080/"
        },
        "id": "IpAWqbwgbZfD",
        "outputId": "8f82b696-cd27-4dcc-83cb-56cff9381576"
      },
      "execution_count": 54,
      "outputs": [
        {
          "output_type": "stream",
          "name": "stdout",
          "text": [
            "+-----+---------+---------+---------+-------------+-------------+\n",
            "|   n |      xi |      xs |      xm |         fxm |       ERROR |\n",
            "+=====+=========+=========+=========+=============+=============+\n",
            "|   1 | 2       | 3       | 2.5     | -9.375      | 0           |\n",
            "+-----+---------+---------+---------+-------------+-------------+\n",
            "|   2 | 2.5     | 3       | 2.75    | -4.20312    | 0.25        |\n",
            "+-----+---------+---------+---------+-------------+-------------+\n",
            "|   3 | 2.75    | 3       | 2.875   | -1.23633    | 0.125       |\n",
            "+-----+---------+---------+---------+-------------+-------------+\n",
            "|   4 | 2.875   | 3       | 2.9375  |  0.347412   | 0.0625      |\n",
            "+-----+---------+---------+---------+-------------+-------------+\n",
            "|   5 | 2.875   | 2.9375  | 2.90625 | -0.452972   | 0.03125     |\n",
            "+-----+---------+---------+---------+-------------+-------------+\n",
            "|   6 | 2.90625 | 2.9375  | 2.92188 | -0.0549202  | 0.015625    |\n",
            "+-----+---------+---------+---------+-------------+-------------+\n",
            "|   7 | 2.92188 | 2.9375  | 2.92969 |  0.14571    | 0.0078125   |\n",
            "+-----+---------+---------+---------+-------------+-------------+\n",
            "|   8 | 2.92188 | 2.92969 | 2.92578 |  0.0452607  | 0.00390625  |\n",
            "+-----+---------+---------+---------+-------------+-------------+\n",
            "|   9 | 2.92188 | 2.92578 | 2.92383 | -0.0048632  | 0.00195312  |\n",
            "+-----+---------+---------+---------+-------------+-------------+\n",
            "|  10 | 2.92383 | 2.92578 | 2.9248  |  0.0201904  | 0.000976562 |\n",
            "+-----+---------+---------+---------+-------------+-------------+\n",
            "|  11 | 2.92383 | 2.9248  | 2.92432 |  0.00766151 | 0.000488281 |\n",
            "+-----+---------+---------+---------+-------------+-------------+\n",
            "|  12 | 2.92383 | 2.92432 | 2.92407 |  0.00139863 | 0.000244141 |\n",
            "+-----+---------+---------+---------+-------------+-------------+\n",
            "|  13 | 2.92383 | 2.92407 | 2.92395 | -0.00173241 | 0.00012207  |\n",
            "+-----+---------+---------+---------+-------------+-------------+\n"
          ]
        }
      ]
    }
  ]
}