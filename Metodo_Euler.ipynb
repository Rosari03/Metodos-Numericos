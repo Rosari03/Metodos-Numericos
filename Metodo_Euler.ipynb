{
  "nbformat": 4,
  "nbformat_minor": 0,
  "metadata": {
    "colab": {
      "provenance": [],
      "authorship_tag": "ABX9TyPpauGONwF7kl6Wc7HdwOet",
      "include_colab_link": true
    },
    "kernelspec": {
      "name": "python3",
      "display_name": "Python 3"
    },
    "language_info": {
      "name": "python"
    }
  },
  "cells": [
    {
      "cell_type": "markdown",
      "metadata": {
        "id": "view-in-github",
        "colab_type": "text"
      },
      "source": [
        "<a href=\"https://colab.research.google.com/github/Rosari03/Metodos-Numericos/blob/main/Metodo_Euler.ipynb\" target=\"_parent\"><img src=\"https://colab.research.google.com/assets/colab-badge.svg\" alt=\"Open In Colab\"/></a>"
      ]
    },
    {
      "cell_type": "code",
      "source": [
        "import math\n",
        "\n",
        "def metodo_euler():\n",
        "    # Datos del problema\n",
        "    a = 0            # Extremo izquierdo del intervalo\n",
        "    b = 2            # Extremo derecho del intervalo\n",
        "    alpha = 0.5      # Condición inicial: y(a) = alpha\n",
        "    N = 10           # Número de pasos\n",
        "\n",
        "    # Definición de la función f(t, y)\n",
        "    def f(t, y):\n",
        "        return y - t**2 + 1\n",
        "\n",
        "    # Solución exacta\n",
        "    def y_exacta(t):\n",
        "        return (t + 1)**2 - 0.5 * math.exp(t)\n",
        "\n",
        "    # Paso del método\n",
        "    h = (b - a) / N\n",
        "\n",
        "    # Inicialización\n",
        "    t = a\n",
        "    w = alpha\n",
        "\n",
        "    #Tabla\n",
        "    print(f\"{'ti':>6} {'wi':>10} {'yi':>12} {'|yi - wi|':>12}\")\n",
        "    print(\"=\" * 43)\n",
        "\n",
        "    print(f\"{t:6.1f} {w:10.7f} {y_exacta(t):12.7f} {abs(y_exacta(t) - w):12.7f}\")\n",
        "\n",
        "    # Pasos de Euler\n",
        "    for i in range(1, N + 1):\n",
        "        w = w + h * f(t, w)     # Paso de Euler\n",
        "        t = a + i * h           # Actualización de t\n",
        "        y_real = y_exacta(t)    # Valor exacto\n",
        "        error = abs(y_real - w) # Error absoluto\n",
        "        print(f\"{t:6.1f} {w:10.7f} {y_real:12.7f} {error:12.7f}\")\n",
        "\n",
        "# Llamada a la función\n",
        "metodo_euler()\n"
      ],
      "metadata": {
        "colab": {
          "base_uri": "https://localhost:8080/"
        },
        "id": "mXhBzm-tH_mJ",
        "outputId": "b4926a8c-b453-474a-a01d-5c9d17828698"
      },
      "execution_count": 7,
      "outputs": [
        {
          "output_type": "stream",
          "name": "stdout",
          "text": [
            "    ti         wi           yi    |yi - wi|\n",
            "===========================================\n",
            "   0.0  0.5000000    0.5000000    0.0000000\n",
            "   0.2  0.8000000    0.8292986    0.0292986\n",
            "   0.4  1.1520000    1.2140877    0.0620877\n",
            "   0.6  1.5504000    1.6489406    0.0985406\n",
            "   0.8  1.9884800    2.1272295    0.1387495\n",
            "   1.0  2.4581760    2.6408591    0.1826831\n",
            "   1.2  2.9498112    3.1799415    0.2301303\n",
            "   1.4  3.4517734    3.7324000    0.2806266\n",
            "   1.6  3.9501281    4.2834838    0.3333557\n",
            "   1.8  4.4281538    4.8151763    0.3870225\n",
            "   2.0  4.8657845    5.3054720    0.4396874\n"
          ]
        }
      ]
    }
  ]
}