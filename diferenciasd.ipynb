{
  "nbformat": 4,
  "nbformat_minor": 0,
  "metadata": {
    "colab": {
      "provenance": [],
      "authorship_tag": "ABX9TyOCn/lx2kIA8bnkoSkTh1Ky",
      "include_colab_link": true
    },
    "kernelspec": {
      "name": "python3",
      "display_name": "Python 3"
    },
    "language_info": {
      "name": "python"
    }
  },
  "cells": [
    {
      "cell_type": "markdown",
      "metadata": {
        "id": "view-in-github",
        "colab_type": "text"
      },
      "source": [
        "<a href=\"https://colab.research.google.com/github/Rosari03/Metodos-Numericos/blob/main/diferenciasd.ipynb\" target=\"_parent\"><img src=\"https://colab.research.google.com/assets/colab-badge.svg\" alt=\"Open In Colab\"/></a>"
      ]
    },
    {
      "cell_type": "markdown",
      "source": [
        "# Diferencias Divididas\n",
        "\n",
        "\n",
        "Este metodo es una algortimno numerico para calcular y/o generar sucesivamente aproximaciones polinomiales de grado superior en especifico.\n",
        "Se usan para generar sucesivamente los polinomios en si mismos\n",
        "\n"
      ],
      "metadata": {
        "id": "gW1PQHLMxr1d"
      }
    },
    {
      "cell_type": "markdown",
      "source": [
        "# El metodo\n",
        "Basicamente tenemos que seguir la siguiente formula\n",
        "\n",
        "$a_{i}= \\frac{(f(x_{i})-f(x_0)}{(x_i-x_0)}$\n",
        "\n",
        "donde nos dara como resultado la notacion de diferencias divididas"
      ],
      "metadata": {
        "id": "zb2HasUJ7rqh"
      }
    },
    {
      "cell_type": "code",
      "execution_count": 3,
      "metadata": {
        "id": "ftcN68Ubm0XJ"
      },
      "outputs": [],
      "source": [
        "import sympy as sp\n",
        "from sympy import sympify, lambdify\n",
        "import numpy as np\n",
        "import matplotlib.pyplot as plt\n",
        "import math\n"
      ]
    },
    {
      "cell_type": "code",
      "source": [
        "\n",
        "def difdiv(X: list[float] | np.ndarray, y: list[float] ):\n",
        "    n = len(X)\n",
        "    mat = np.zeros((n, n), dtype=object)\n",
        "\n",
        "    # Primera columna: los valores de y\n",
        "    for i in range(n):\n",
        "        mat[i, 0] = y[i]\n",
        "\n",
        "    # Rellenar la tabla de diferencias divididas\n",
        "    for j in range(1, n):\n",
        "        for i in range(n-j):\n",
        "            mat[i, j] = (mat[i+1, j-1] - mat[i, j-1]) / (X[i+j] - X[i])\n",
        "\n",
        "    return mat"
      ],
      "metadata": {
        "id": "kjOrCQWMsq7t"
      },
      "execution_count": 7,
      "outputs": []
    },
    {
      "cell_type": "code",
      "source": [
        "X=[1,1.3,1.6,1.9,2.2]\n",
        "Y=[.7651977,0.6200860,.4554022,.2818186,0.1103623]\n",
        "\n",
        "\n",
        "diferencias=difdiv(X,Y)\n",
        "for fila in diferencias:\n",
        "    print([round(val,7) if val !=0 else \"\" for val in fila])\n",
        "\n",
        "\n"
      ],
      "metadata": {
        "id": "Yp3FLi9pv4qB",
        "colab": {
          "base_uri": "https://localhost:8080/"
        },
        "outputId": "2e9aeb5f-7d74-4d63-a564-2a78e629f2d4"
      },
      "execution_count": 14,
      "outputs": [
        {
          "output_type": "stream",
          "name": "stdout",
          "text": [
            "[0.7651977, -0.4837057, -0.1087339, 0.0658784, 0.0018251]\n",
            "[0.620086, -0.548946, -0.0494433, 0.0680685, '']\n",
            "[0.4554022, -0.578612, 0.0118183, '', '']\n",
            "[0.2818186, -0.571521, '', '', '']\n",
            "[0.1103623, '', '', '', '']\n"
          ]
        }
      ]
    }
  ]
}