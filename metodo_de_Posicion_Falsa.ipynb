{
  "nbformat": 4,
  "nbformat_minor": 0,
  "metadata": {
    "colab": {
      "provenance": [],
      "authorship_tag": "ABX9TyOb3yLhWDFxZN8Xro0PD6u1",
      "include_colab_link": true
    },
    "kernelspec": {
      "name": "python3",
      "display_name": "Python 3"
    },
    "language_info": {
      "name": "python"
    }
  },
  "cells": [
    {
      "cell_type": "markdown",
      "metadata": {
        "id": "view-in-github",
        "colab_type": "text"
      },
      "source": [
        "<a href=\"https://colab.research.google.com/github/Rosari03/Metodos-Numericos/blob/main/metodo_de_Posicion_Falsa.ipynb\" target=\"_parent\"><img src=\"https://colab.research.google.com/assets/colab-badge.svg\" alt=\"Open In Colab\"/></a>"
      ]
    },
    {
      "cell_type": "code",
      "source": [
        "import math                 #En este apartado declaramos las libreriasy algunas funciones que ocuparemos para realizar operaciones\n",
        "from math import cos        #matematicas y graficar\n",
        "import tabulate\n",
        "from tabulate import tabulate"
      ],
      "metadata": {
        "id": "s8uWOkKUand4"
      },
      "execution_count": null,
      "outputs": []
    },
    {
      "cell_type": "code",
      "source": [
        "xa=.5                       #xa= Inicio de nuestro intervalo\n",
        "xb=math.pi/4                #xb= Final de nuestro Intervalo\n",
        "n=5                         #n= Número de iteraciones de nuestro programa\n",
        "lxa=[xa]                    #lxa,lxb,lxr,lfxr,lerror son las listas que guardan nuestras variables\n",
        "lxb=[xb]\n",
        "lxr=[.5]\n",
        "lerror=[0]\n",
        "lfxr=[]\n",
        "Li=[]"
      ],
      "metadata": {
        "id": "07LRSB_qaseF"
      },
      "execution_count": null,
      "outputs": []
    },
    {
      "cell_type": "code",
      "source": [
        "def fx(x):                  #Definimos nuestras funciones, f(x) que evalua nuestra funcion principal\n",
        "    return cos(x)-x         #La funcion valor es nuestro apoyo para encontrar el valor de nuestra raiz\n",
        "def valor(xb,xa,fxb,fxa):\n",
        "    return (xb-((fxb*(xa-xb))/(fxa-fxb)))"
      ],
      "metadata": {
        "id": "qBtHF1b1bMgO"
      },
      "execution_count": null,
      "outputs": []
    },
    {
      "cell_type": "code",
      "source": [
        "i=0                         #Nuestro while nos permite hacer n iteraciones\n",
        "while n:                    #fxa,fxb,xr,fxr son las variables evaluadas en las funciones\n",
        "    fxa=fx(xa)              #posteriormente guardamos los valores en las listas como( lista.append)\n",
        "    fxb=fx(xb)              #El cual nos indexa un elemento al final de nuestra lista\n",
        "    xr=valor(xb,xa,fxb,fxa)\n",
        "    lxr.append(xr)\n",
        "    fxr=fx(xr)\n",
        "    lfxr.append(fxr)\n",
        "    if fxa*fxr>0:          #Si la funcion evaluada en xa por xr es positiva xa tomara un nuevo valor xr\n",
        "      xa=xr                #De lo contrario xr tomara el lugar de xr\n",
        "    else :\n",
        "      xb=xr\n",
        "    lxa.append(xa)\n",
        "    lxb.append(xb)\n",
        "    i+=1\n",
        "    Li.append(i)          #Tomaremos el error como la diferencia de las 2 ultimas posiciones de lxr\n",
        "    lerror.append(abs((lxr[-1]-lxr[-2])))\n",
        "    n-=1\n"
      ],
      "metadata": {
        "id": "oJK-IT7xKHKt"
      },
      "execution_count": null,
      "outputs": []
    },
    {
      "cell_type": "code",
      "source": [
        "tabla=list(zip(Li,lxa,lxb,lxr,lfxr,lerror))\n",
        "headers=[\"Iteracion\",\"Xa\",\"Xb\",\"Xr\",\"F(xr)\",\"ERROR\"]\n",
        "print(tabulate(tabla,headers=headers,tablefmt=\"grid\"))   #Imprimimos la tabla y listo :3"
      ],
      "metadata": {
        "colab": {
          "base_uri": "https://localhost:8080/"
        },
        "id": "IpAWqbwgbZfD",
        "outputId": "ea91e767-a517-4b40-a58f-7ece8015b68c"
      },
      "execution_count": null,
      "outputs": [
        {
          "output_type": "stream",
          "name": "stdout",
          "text": [
            "+-------------+----------+----------+----------+-------------+-------------+\n",
            "|   Iteracion |       Xa |       Xb |       Xr |       F(xr) |       ERROR |\n",
            "+=============+==========+==========+==========+=============+=============+\n",
            "|           1 | 0.5      | 0.785398 | 0.5      | 0.00451772  | 0           |\n",
            "+-------------+----------+----------+----------+-------------+-------------+\n",
            "|           2 | 0.736384 | 0.785398 | 0.736384 | 4.51772e-05 | 0.236384    |\n",
            "+-------------+----------+----------+----------+-------------+-------------+\n",
            "|           3 | 0.739058 | 0.785398 | 0.739058 | 4.50872e-07 | 0.002674    |\n",
            "+-------------+----------+----------+----------+-------------+-------------+\n",
            "|           4 | 0.739085 | 0.785398 | 0.739085 | 4.49964e-09 | 2.67246e-05 |\n",
            "+-------------+----------+----------+----------+-------------+-------------+\n",
            "|           5 | 0.739085 | 0.785398 | 0.739085 | 4.49059e-11 | 2.66712e-07 |\n",
            "+-------------+----------+----------+----------+-------------+-------------+\n"
          ]
        }
      ]
    }
  ]
}