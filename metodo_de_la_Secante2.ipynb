{
  "nbformat": 4,
  "nbformat_minor": 0,
  "metadata": {
    "colab": {
      "provenance": [],
      "authorship_tag": "ABX9TyMmEM0Wr9act1I9orav/gmo",
      "include_colab_link": true
    },
    "kernelspec": {
      "name": "python3",
      "display_name": "Python 3"
    },
    "language_info": {
      "name": "python"
    }
  },
  "cells": [
    {
      "cell_type": "markdown",
      "metadata": {
        "id": "view-in-github",
        "colab_type": "text"
      },
      "source": [
        "<a href=\"https://colab.research.google.com/github/Rosari03/Metodos-Numericos/blob/main/metodo_de_la_Secante2.ipynb\" target=\"_parent\"><img src=\"https://colab.research.google.com/assets/colab-badge.svg\" alt=\"Open In Colab\"/></a>"
      ]
    },
    {
      "cell_type": "markdown",
      "source": [
        "# Método de la secante"
      ],
      "metadata": {
        "id": "gnD7IHz1l9wI"
      }
    },
    {
      "cell_type": "markdown",
      "source": [
        "El metodo de la secante es un algoritmo numerico que se utiliza para encontrar la raiz de una funcion"
      ],
      "metadata": {
        "id": "0o2hY0E2wKGG"
      }
    },
    {
      "cell_type": "markdown",
      "source": [
        "Para aplicar el método de la secante seguiremos los siguientes pasos:\n",
        "* Definir la función\n",
        "* Elegir aproximaciones iniciales x0 y x1\n",
        "* Hallar el valor de la aproximación x2\n",
        "* Verificar si se cumple la tolerancia\n",
        "* Si no se cumple, reemplazar x0 por x1 y x1 por x2\n",
        "* Volver a calcular"
      ],
      "metadata": {
        "id": "AVJpLOh-wnd2"
      }
    },
    {
      "cell_type": "code",
      "source": [
        "import math                 #En este apartado declaramos las libreriasy algunas funciones que ocuparemos para realizar operaciones\n",
        "from math import cos        #matematicas y graficar\n",
        "import tabulate\n",
        "from tabulate import tabulate"
      ],
      "metadata": {
        "id": "s8uWOkKUand4"
      },
      "execution_count": 1,
      "outputs": []
    },
    {
      "cell_type": "code",
      "source": [
        "xa=.5                       #xa= Inicio de nuestro intervalo\n",
        "xb=1                        #xb= Final de nuestro Intervalo\n",
        "n=5                         #n= Número de iteraciones de nuestro programa\n",
        "lxa=[xa]                    #lxa,lxb,lxr,lfxr,lerror son las listas que guardan nuestras variables\n",
        "lxb=[xb]\n",
        "lxr=[.5]\n",
        "lerror=[0]\n",
        "lfxr=[]\n",
        "Li=[]"
      ],
      "metadata": {
        "id": "07LRSB_qaseF"
      },
      "execution_count": 2,
      "outputs": []
    },
    {
      "cell_type": "code",
      "source": [
        "def fx(x):                  #Definimos nuestras funciones, f(x) que evalua nuestra funcion principal\n",
        "    return cos(x)-x         #La funcion valor es nuestro apoyo para encontrar el valor de nuestra raiz\n",
        "def valor(xb,xa,fxb,fxa):\n",
        "    return xb-(((fxb)*(xa-xb))/(fxa-fxb))"
      ],
      "metadata": {
        "id": "qBtHF1b1bMgO"
      },
      "execution_count": 3,
      "outputs": []
    },
    {
      "cell_type": "code",
      "source": [
        "i=0                         #Nuestro while nos permite hacer n iteraciones\n",
        "while n:                    #fxa,fxb,xr,fxr son las variables evaluadas en las funciones\n",
        "    fxa=fx(xa)              #posteriormente guardamos los valores en las listas como( lista.append)\n",
        "    fxb=fx(xb)              #El cual nos indexa un elemento al final de nuestra lista\n",
        "    xr=valor(xb,xa,fxb,fxa)\n",
        "    xa=xb\n",
        "    xb=xr                   #intercambiamos el valor de nuestros valores para las nuevas iteraciones\n",
        "    lxr.append(xr)\n",
        "    fxr=fx(xr)\n",
        "    lfxr.append(fxr)\n",
        "    lxa.append(xa)\n",
        "    lxb.append(xb)\n",
        "    i+=1\n",
        "    Li.append(i)          #Tomaremos el error como la diferencia de las 2 ultimas posiciones de lxr\n",
        "    lerror.append(abs((lxr[-1]-lxr[-2])))\n",
        "    n-=1\n"
      ],
      "metadata": {
        "id": "oJK-IT7xKHKt"
      },
      "execution_count": 4,
      "outputs": []
    },
    {
      "cell_type": "code",
      "source": [
        "tabla=list(zip(Li,lxa,lxb,lxr,lfxr,lerror))\n",
        "headers=[\"Iteracion\",\"Xa\",\"Xb\",\"Xr\",\"F(xr)\",\"ERROR\"]\n",
        "print(tabulate(tabla,headers=headers,tablefmt=\"grid\"))   #Imprimimos la tabla y listo :3"
      ],
      "metadata": {
        "colab": {
          "base_uri": "https://localhost:8080/"
        },
        "id": "IpAWqbwgbZfD",
        "outputId": "99fee991-f88b-4b3c-8635-22c8e586ff5b"
      },
      "execution_count": 5,
      "outputs": [
        {
          "output_type": "stream",
          "name": "stdout",
          "text": [
            "+-------------+----------+----------+----------+--------------+-------------+\n",
            "|   Iteracion |       Xa |       Xb |       Xr |        F(xr) |       ERROR |\n",
            "+=============+==========+==========+==========+==============+=============+\n",
            "|           1 | 0.5      | 1        | 0.5      |  0.0226984   | 0           |\n",
            "+-------------+----------+----------+----------+--------------+-------------+\n",
            "|           2 | 1        | 0.725482 | 0.725482 |  0.00114878  | 0.225482    |\n",
            "+-------------+----------+----------+----------+--------------+-------------+\n",
            "|           3 | 0.725482 | 0.738399 | 0.738399 | -3.47711e-06 | 0.012917    |\n",
            "+-------------+----------+----------+----------+--------------+-------------+\n",
            "|           4 | 0.738399 | 0.739087 | 0.739087 |  5.27269e-10 | 0.000688591 |\n",
            "+-------------+----------+----------+----------+--------------+-------------+\n",
            "|           5 | 0.739087 | 0.739085 | 0.739085 |  3.33067e-16 | 2.07792e-06 |\n",
            "+-------------+----------+----------+----------+--------------+-------------+\n"
          ]
        }
      ]
    },
    {
      "cell_type": "code",
      "source": [
        "print(\"El valor de nuestra raiz sera: \",lxr[-1])\n",
        "print(\"Con un error de \",lerror[-2])"
      ],
      "metadata": {
        "id": "0vnCWDlHw_o_",
        "outputId": "b7384022-129c-4546-bcaa-ebb326769fea",
        "colab": {
          "base_uri": "https://localhost:8080/"
        }
      },
      "execution_count": 7,
      "outputs": [
        {
          "output_type": "stream",
          "name": "stdout",
          "text": [
            "El valor de nuestra raiz sera:  0.7390851332151605\n",
            "Con un error de  2.0779207539067812e-06\n"
          ]
        }
      ]
    }
  ]
}