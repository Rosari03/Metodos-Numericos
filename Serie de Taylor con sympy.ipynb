{
  "cells": [
    {
      "cell_type": "markdown",
      "source": [
        "#  <font color=red>Graficando con Sympys</font>"
      ],
      "metadata": {
        "id": "L0RaUdET7ZwE"
      },
      "id": "L0RaUdET7ZwE"
    },
    {
      "cell_type": "markdown",
      "source": [
        "sympy es una libreria de python para simbolos matematicos , de manera que nos permite ver nuestras expresiones de la manera mas sencilla o entendible posible"
      ],
      "metadata": {
        "id": "WxJaPK3i7g3L"
      },
      "id": "WxJaPK3i7g3L"
    },
    {
      "cell_type": "code",
      "execution_count": 1,
      "id": "78b10ad7",
      "metadata": {
        "id": "78b10ad7"
      },
      "outputs": [],
      "source": [
        "import sympy as sp\n",
        "import numpy as np\n",
        "import matplotlib.pyplot as plt"
      ]
    },
    {
      "cell_type": "markdown",
      "source": [
        "Primero definiremos nuestro valor a evaluar x0=1 y n representa hasta que orden calcularemos nuestra serie de Taylor"
      ],
      "metadata": {
        "id": "9hmySGfP7jk-"
      },
      "id": "9hmySGfP7jk-"
    },
    {
      "cell_type": "code",
      "execution_count": 2,
      "id": "75d7d332",
      "metadata": {
        "id": "75d7d332"
      },
      "outputs": [],
      "source": [
        "x0=1\n",
        "n=5"
      ]
    },
    {
      "cell_type": "markdown",
      "source": [
        "***sp,Symbol*** nos permite definir simbolos como variables que cuparemos mas adelante"
      ],
      "metadata": {
        "id": "HyzgNdEa70XK"
      },
      "id": "HyzgNdEa70XK"
    },
    {
      "cell_type": "code",
      "source": [
        "x=sp.Symbol('x')"
      ],
      "metadata": {
        "id": "Kb5OG02D4fHN"
      },
      "id": "Kb5OG02D4fHN",
      "execution_count": 4,
      "outputs": []
    },
    {
      "cell_type": "markdown",
      "source": [
        "La funcion siguiente nos calcula la serie de taylor, para ello debemos definir 3 parametros, nuestra x (variable), x0 es el punto a evaluar y n que es el orden que queremos calcular"
      ],
      "metadata": {
        "id": "iK9ZGmcF8D65"
      },
      "id": "iK9ZGmcF8D65"
    },
    {
      "cell_type": "code",
      "execution_count": 9,
      "id": "348e2103",
      "metadata": {
        "id": "348e2103",
        "outputId": "251211a0-6677-40d2-d969-ab57ea326343",
        "colab": {
          "base_uri": "https://localhost:8080/"
        }
      },
      "outputs": [
        {
          "output_type": "stream",
          "name": "stdout",
          "text": [
            "x - (x - 1)**4/4 + (x - 1)**3/3 - (x - 1)**2/2 - 1\n"
          ]
        }
      ],
      "source": [
        "t=sp.ln(x).series(x,x0,n).removeO()\n",
        "print(t)"
      ]
    },
    {
      "cell_type": "code",
      "execution_count": 10,
      "id": "e45ce177",
      "metadata": {
        "id": "e45ce177",
        "outputId": "60aff0ca-e674-4956-a9d3-30de835857b7",
        "colab": {
          "base_uri": "https://localhost:8080/",
          "height": 56
        }
      },
      "outputs": [
        {
          "output_type": "execute_result",
          "data": {
            "text/plain": [
              "x - (x - 1)**4/4 + (x - 1)**3/3 - (x - 1)**2/2 - 1"
            ],
            "text/latex": "$\\displaystyle x - \\frac{\\left(x - 1\\right)^{4}}{4} + \\frac{\\left(x - 1\\right)^{3}}{3} - \\frac{\\left(x - 1\\right)^{2}}{2} - 1$"
          },
          "metadata": {},
          "execution_count": 10
        }
      ],
      "source": [
        "t"
      ]
    },
    {
      "cell_type": "markdown",
      "source": [
        "la funcion lambdify nos permite convertir nuestra expresion anterior en una funcion que ocuparemos para graficar mas adelante  "
      ],
      "metadata": {
        "id": "jRPxgXcF9Jf3"
      },
      "id": "jRPxgXcF9Jf3"
    },
    {
      "cell_type": "code",
      "execution_count": 11,
      "id": "715d9e4c",
      "metadata": {
        "id": "715d9e4c"
      },
      "outputs": [],
      "source": [
        "t=sp.lambdify(x,t,'numpy')"
      ]
    },
    {
      "cell_type": "markdown",
      "source": [
        "los sigueintes parametros nos permiten graficar nuestra funcion xx es el rango de nuestra grafica, yln es el dominio y yt es el rango de la funcion de Taylor"
      ],
      "metadata": {
        "id": "sMJUs0VU-moi"
      },
      "id": "sMJUs0VU-moi"
    },
    {
      "cell_type": "code",
      "execution_count": 37,
      "id": "fbe77aaa",
      "metadata": {
        "id": "fbe77aaa"
      },
      "outputs": [],
      "source": [
        "xx=np.linspace(x0-0.99999999999999,x0+2,1000)\n",
        "yln=np.log(xx)\n",
        "yt=t(xx)"
      ]
    },
    {
      "cell_type": "code",
      "execution_count": 38,
      "id": "6d6d8097",
      "metadata": {
        "id": "6d6d8097",
        "outputId": "6355b7bc-2772-4e2b-a729-28139e2e94c6",
        "colab": {
          "base_uri": "https://localhost:8080/",
          "height": 454
        }
      },
      "outputs": [
        {
          "output_type": "display_data",
          "data": {
            "text/plain": [
              "<Figure size 640x480 with 1 Axes>"
            ],
            "image/png": "[encoded data removed]"
          },
          "metadata": {}
        }
      ],
      "source": [
        "plt.plot(xx,yln,xx,yt)\n",
        "plt.legend(['in(x)','Serie de Taylor orden 4'])\n",
        "plt.title('Serie de Taylor de $f(x)=in(x)$')\n",
        "plt.grid(True)\n",
        "\n",
        "#g.savefig('seriet.pdf', bbox_inches='tight')"
      ]
    },
    {
      "cell_type": "code",
      "execution_count": null,
      "id": "38258aad",
      "metadata": {
        "id": "38258aad"
      },
      "outputs": [],
      "source": []
    }
  ],
  "metadata": {
    "kernelspec": {
      "display_name": "Python 3 (ipykernel)",
      "language": "python",
      "name": "python3"
    },
    "language_info": {
      "codemirror_mode": {
        "name": "ipython",
        "version": 3
      },
      "file_extension": ".py",
      "mimetype": "text/x-python",
      "name": "python",
      "nbconvert_exporter": "python",
      "pygments_lexer": "ipython3",
      "version": "3.7.3"
    },
    "colab": {
      "provenance": []
    }
  },
  "nbformat": 4,
  "nbformat_minor": 5
}